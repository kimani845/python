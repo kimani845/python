{
 "cells": [
  {
   "cell_type": "markdown",
   "metadata": {},
   "source": [
    " There are different ways for a dataset. csv, .json, .exlx etc.\n",
    " insall the required libraries for loading the dataset."
   ]
  },
  {
   "cell_type": "code",
   "execution_count": null,
   "metadata": {},
   "outputs": [],
   "source": [
    "%pip install pandas matplotlib numpy"
   ]
  },
  {
   "cell_type": "code",
   "execution_count": null,
   "metadata": {},
   "outputs": [],
   "source": [
    "# importing the required libraries\n",
    "import pandas as pd\n",
    "import numpy as np\n",
    "\n",
    "# Reading the dataset\n",
    "filepath = \"https://cf-courses-data.s3.us.cloud-object-storage.appdomain.cloud/IBMDeveloperSkillsNetwork-DA0101EN-SkillsNetwork/labs/Data%20files/auto.csv\"\n",
    "df = pd.read_csv(filepath, header=None)\n",
    "\n",
    "# to print the first 5 rows of the dataframe\n",
    "# print(df.head())\n",
    "print(\"The first 5 rows of the dataframe\\n\")\n",
    "df.head()\n",
    "# df.tail() this line of code will print the last five rows."
   ]
  },
  {
   "cell_type": "code",
   "execution_count": null,
   "metadata": {},
   "outputs": [],
   "source": [
    "# You can add headers to an existing dataframe\n",
    "headers = [\"symboling\", \"normalized-losses\", \"make\", \"fuel_type\", \"aspiration\", \"num-of-doors\", \"body-style\", \"drive-wheels\",\n",
    "            \"engine-location\", \"wheel-base0\", \"length\", \"width\", \"height\", \"curb-weight\",  \"engine-type\", \"num-of-cylinders\", \n",
    "            \"engine-size\", \"fuel-system\", \"bore\", \"stroke\", \"compression-ratio\", \"horse-power\", \"peak-rpm\", \"city-mpg\", \"highway-mpg\", \"price\"]\n",
    "\n",
    "print (\"headers\\n\", headers)\n",
    "\n",
    "# replace and recheck the dataframe\n",
    "df.columns = headers\n",
    "df.columns\n",
    "print(df.head(10))\n",
    "# df.head(10)"
   ]
  },
  {
   "cell_type": "code",
   "execution_count": null,
   "metadata": {},
   "outputs": [],
   "source": [
    "# replace the ? with NaN\n",
    "df1 = df.replace('?', np.nan)\n",
    "df1.head()"
   ]
  },
  {
   "cell_type": "code",
   "execution_count": null,
   "metadata": {},
   "outputs": [],
   "source": [
    "# droping missing values in columns\n",
    "df = df1.dropna(subset=['price'], axis=0) # axis=0 in this line of code means that the contents along the entire row will be dropped wherever the entity NaN is found.  \n",
    "df.head()"
   ]
  },
  {
   "cell_type": "code",
   "execution_count": null,
   "metadata": {},
   "outputs": [],
   "source": [
    "print (df1.columns)"
   ]
  },
  {
   "cell_type": "code",
   "execution_count": 20,
   "metadata": {},
   "outputs": [],
   "source": [
    "# saving the dataset\n",
    "df.to_csv(\"Automobile_csv\", index= False) #index= False means that the rows will not be written\n"
   ]
  },
  {
   "cell_type": "code",
   "execution_count": null,
   "metadata": {},
   "outputs": [],
   "source": [
    "# get the datatypes of the dataframe\n",
    "print(df.dtypes)\n",
    "df.dtypes"
   ]
  },
  {
   "cell_type": "code",
   "execution_count": null,
   "metadata": {},
   "outputs": [],
   "source": [
    "# to get the summary statistics\n",
    "df.describe()"
   ]
  },
  {
   "cell_type": "code",
   "execution_count": null,
   "metadata": {},
   "outputs": [],
   "source": [
    "# describe all the columns in df\n",
    "df.describe(include= \"all\")"
   ]
  },
  {
   "cell_type": "code",
   "execution_count": null,
   "metadata": {},
   "outputs": [],
   "source": [
    "# selecting a specific column of a dataframe\n",
    "# df[['length', 'compression-ratio']]  # returns a new dataframe with only the specified columns\n",
    "# summary statistics of the two dataframe\n",
    "df[['length', 'compression-ratio']].describe() # this can also be used to get the summary statistics of the dataframe for the specified columns\n",
    "# df.describe()"
   ]
  },
  {
   "cell_type": "code",
   "execution_count": null,
   "metadata": {},
   "outputs": [],
   "source": [
    "df.info() # this is also another method that can be used to get the info of the dataframe\n"
   ]
  }
 ],
 "metadata": {
  "kernelspec": {
   "display_name": "Python 3",
   "language": "python",
   "name": "python3"
  },
  "language_info": {
   "codemirror_mode": {
    "name": "ipython",
    "version": 3
   },
   "file_extension": ".py",
   "mimetype": "text/x-python",
   "name": "python",
   "nbconvert_exporter": "python",
   "pygments_lexer": "ipython3",
   "version": "3.13.1"
  }
 },
 "nbformat": 4,
 "nbformat_minor": 2
}
