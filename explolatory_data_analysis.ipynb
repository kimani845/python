{
 "cells": [
  {
   "cell_type": "code",
   "execution_count": null,
   "metadata": {},
   "outputs": [],
   "source": [
    "# Explolatory data analysis\n",
    "# install the required libraries\n",
    "%pip install pandas\n",
    "%pip install numpy\n",
    "%pip install scipy\n",
    "%pip install seaborn"
   ]
  },
  {
   "cell_type": "code",
   "execution_count": 29,
   "metadata": {},
   "outputs": [],
   "source": [
    "import pandas as pd\n",
    "import numpy as np\n",
    "import matplotlib as plt\n",
    "import seaborn as sns\n",
    "import matplotlib.pyplot as plt\n"
   ]
  },
  {
   "cell_type": "code",
   "execution_count": 3,
   "metadata": {},
   "outputs": [
    {
     "data": {
      "application/vnd.microsoft.datawrangler.viewer.v0+json": {
       "columns": [
        {
         "name": "index",
         "rawType": "int64",
         "type": "integer"
        },
        {
         "name": "symboling",
         "rawType": "int64",
         "type": "integer"
        },
        {
         "name": "normalized-losses",
         "rawType": "int64",
         "type": "integer"
        },
        {
         "name": "make",
         "rawType": "object",
         "type": "string"
        },
        {
         "name": "aspiration",
         "rawType": "object",
         "type": "string"
        },
        {
         "name": "num-of-doors",
         "rawType": "object",
         "type": "string"
        },
        {
         "name": "body-style",
         "rawType": "object",
         "type": "string"
        },
        {
         "name": "drive-wheels",
         "rawType": "object",
         "type": "string"
        },
        {
         "name": "engine-location",
         "rawType": "object",
         "type": "string"
        },
        {
         "name": "wheel-base",
         "rawType": "float64",
         "type": "float"
        },
        {
         "name": "length",
         "rawType": "float64",
         "type": "float"
        },
        {
         "name": "width",
         "rawType": "float64",
         "type": "float"
        },
        {
         "name": "height",
         "rawType": "float64",
         "type": "float"
        },
        {
         "name": "curb-weight",
         "rawType": "int64",
         "type": "integer"
        },
        {
         "name": "engine-type",
         "rawType": "object",
         "type": "string"
        },
        {
         "name": "num-of-cylinders",
         "rawType": "object",
         "type": "string"
        },
        {
         "name": "engine-size",
         "rawType": "int64",
         "type": "integer"
        },
        {
         "name": "fuel-system",
         "rawType": "object",
         "type": "string"
        },
        {
         "name": "bore",
         "rawType": "float64",
         "type": "float"
        },
        {
         "name": "stroke",
         "rawType": "float64",
         "type": "float"
        },
        {
         "name": "compression-ratio",
         "rawType": "float64",
         "type": "float"
        },
        {
         "name": "horsepower",
         "rawType": "float64",
         "type": "float"
        },
        {
         "name": "peak-rpm",
         "rawType": "float64",
         "type": "float"
        },
        {
         "name": "city-mpg",
         "rawType": "int64",
         "type": "integer"
        },
        {
         "name": "highway-mpg",
         "rawType": "int64",
         "type": "integer"
        },
        {
         "name": "price",
         "rawType": "float64",
         "type": "float"
        },
        {
         "name": "city-L/100km",
         "rawType": "float64",
         "type": "float"
        },
        {
         "name": "horsepower-binned",
         "rawType": "object",
         "type": "string"
        },
        {
         "name": "diesel",
         "rawType": "int64",
         "type": "integer"
        },
        {
         "name": "gas",
         "rawType": "int64",
         "type": "integer"
        }
       ],
       "conversionMethod": "pd.DataFrame",
       "ref": "c8984ce6-7241-4886-a731-39edb2b89bc0",
       "rows": [
        [
         "0",
         "3",
         "122",
         "alfa-romero",
         "std",
         "two",
         "convertible",
         "rwd",
         "front",
         "88.6",
         "0.8111484863046613",
         "0.8902777777777777",
         "48.8",
         "2548",
         "dohc",
         "four",
         "130",
         "mpfi",
         "3.47",
         "2.68",
         "9.0",
         "111.0",
         "5000.0",
         "21",
         "27",
         "13495.0",
         "11.190476190476188",
         "Medium",
         "0",
         "1"
        ],
        [
         "1",
         "3",
         "122",
         "alfa-romero",
         "std",
         "two",
         "convertible",
         "rwd",
         "front",
         "88.6",
         "0.8111484863046613",
         "0.8902777777777777",
         "48.8",
         "2548",
         "dohc",
         "four",
         "130",
         "mpfi",
         "3.47",
         "2.68",
         "9.0",
         "111.0",
         "5000.0",
         "21",
         "27",
         "16500.0",
         "11.190476190476188",
         "Medium",
         "0",
         "1"
        ],
        [
         "2",
         "1",
         "122",
         "alfa-romero",
         "std",
         "two",
         "hatchback",
         "rwd",
         "front",
         "94.5",
         "0.8226814031715521",
         "0.9097222222222222",
         "52.4",
         "2823",
         "ohcv",
         "six",
         "152",
         "mpfi",
         "2.68",
         "3.47",
         "9.0",
         "154.0",
         "5000.0",
         "19",
         "26",
         "16500.0",
         "12.36842105263158",
         "Medium",
         "0",
         "1"
        ],
        [
         "3",
         "2",
         "164",
         "audi",
         "std",
         "four",
         "sedan",
         "fwd",
         "front",
         "99.8",
         "0.8486304661220567",
         "0.9194444444444444",
         "54.3",
         "2337",
         "ohc",
         "four",
         "109",
         "mpfi",
         "3.19",
         "3.4",
         "10.0",
         "102.0",
         "5500.0",
         "24",
         "30",
         "13950.0",
         "9.791666666666666",
         "Medium",
         "0",
         "1"
        ],
        [
         "4",
         "2",
         "164",
         "audi",
         "std",
         "four",
         "sedan",
         "4wd",
         "front",
         "99.4",
         "0.8486304661220567",
         "0.9222222222222224",
         "54.3",
         "2824",
         "ohc",
         "five",
         "136",
         "mpfi",
         "3.19",
         "3.4",
         "8.0",
         "115.0",
         "5500.0",
         "18",
         "22",
         "17450.0",
         "13.055555555555555",
         "Medium",
         "0",
         "1"
        ]
       ],
       "shape": {
        "columns": 29,
        "rows": 5
       }
      },
      "text/html": [
       "<div>\n",
       "<style scoped>\n",
       "    .dataframe tbody tr th:only-of-type {\n",
       "        vertical-align: middle;\n",
       "    }\n",
       "\n",
       "    .dataframe tbody tr th {\n",
       "        vertical-align: top;\n",
       "    }\n",
       "\n",
       "    .dataframe thead th {\n",
       "        text-align: right;\n",
       "    }\n",
       "</style>\n",
       "<table border=\"1\" class=\"dataframe\">\n",
       "  <thead>\n",
       "    <tr style=\"text-align: right;\">\n",
       "      <th></th>\n",
       "      <th>symboling</th>\n",
       "      <th>normalized-losses</th>\n",
       "      <th>make</th>\n",
       "      <th>aspiration</th>\n",
       "      <th>num-of-doors</th>\n",
       "      <th>body-style</th>\n",
       "      <th>drive-wheels</th>\n",
       "      <th>engine-location</th>\n",
       "      <th>wheel-base</th>\n",
       "      <th>length</th>\n",
       "      <th>...</th>\n",
       "      <th>compression-ratio</th>\n",
       "      <th>horsepower</th>\n",
       "      <th>peak-rpm</th>\n",
       "      <th>city-mpg</th>\n",
       "      <th>highway-mpg</th>\n",
       "      <th>price</th>\n",
       "      <th>city-L/100km</th>\n",
       "      <th>horsepower-binned</th>\n",
       "      <th>diesel</th>\n",
       "      <th>gas</th>\n",
       "    </tr>\n",
       "  </thead>\n",
       "  <tbody>\n",
       "    <tr>\n",
       "      <th>0</th>\n",
       "      <td>3</td>\n",
       "      <td>122</td>\n",
       "      <td>alfa-romero</td>\n",
       "      <td>std</td>\n",
       "      <td>two</td>\n",
       "      <td>convertible</td>\n",
       "      <td>rwd</td>\n",
       "      <td>front</td>\n",
       "      <td>88.6</td>\n",
       "      <td>0.811148</td>\n",
       "      <td>...</td>\n",
       "      <td>9.0</td>\n",
       "      <td>111.0</td>\n",
       "      <td>5000.0</td>\n",
       "      <td>21</td>\n",
       "      <td>27</td>\n",
       "      <td>13495.0</td>\n",
       "      <td>11.190476</td>\n",
       "      <td>Medium</td>\n",
       "      <td>0</td>\n",
       "      <td>1</td>\n",
       "    </tr>\n",
       "    <tr>\n",
       "      <th>1</th>\n",
       "      <td>3</td>\n",
       "      <td>122</td>\n",
       "      <td>alfa-romero</td>\n",
       "      <td>std</td>\n",
       "      <td>two</td>\n",
       "      <td>convertible</td>\n",
       "      <td>rwd</td>\n",
       "      <td>front</td>\n",
       "      <td>88.6</td>\n",
       "      <td>0.811148</td>\n",
       "      <td>...</td>\n",
       "      <td>9.0</td>\n",
       "      <td>111.0</td>\n",
       "      <td>5000.0</td>\n",
       "      <td>21</td>\n",
       "      <td>27</td>\n",
       "      <td>16500.0</td>\n",
       "      <td>11.190476</td>\n",
       "      <td>Medium</td>\n",
       "      <td>0</td>\n",
       "      <td>1</td>\n",
       "    </tr>\n",
       "    <tr>\n",
       "      <th>2</th>\n",
       "      <td>1</td>\n",
       "      <td>122</td>\n",
       "      <td>alfa-romero</td>\n",
       "      <td>std</td>\n",
       "      <td>two</td>\n",
       "      <td>hatchback</td>\n",
       "      <td>rwd</td>\n",
       "      <td>front</td>\n",
       "      <td>94.5</td>\n",
       "      <td>0.822681</td>\n",
       "      <td>...</td>\n",
       "      <td>9.0</td>\n",
       "      <td>154.0</td>\n",
       "      <td>5000.0</td>\n",
       "      <td>19</td>\n",
       "      <td>26</td>\n",
       "      <td>16500.0</td>\n",
       "      <td>12.368421</td>\n",
       "      <td>Medium</td>\n",
       "      <td>0</td>\n",
       "      <td>1</td>\n",
       "    </tr>\n",
       "    <tr>\n",
       "      <th>3</th>\n",
       "      <td>2</td>\n",
       "      <td>164</td>\n",
       "      <td>audi</td>\n",
       "      <td>std</td>\n",
       "      <td>four</td>\n",
       "      <td>sedan</td>\n",
       "      <td>fwd</td>\n",
       "      <td>front</td>\n",
       "      <td>99.8</td>\n",
       "      <td>0.848630</td>\n",
       "      <td>...</td>\n",
       "      <td>10.0</td>\n",
       "      <td>102.0</td>\n",
       "      <td>5500.0</td>\n",
       "      <td>24</td>\n",
       "      <td>30</td>\n",
       "      <td>13950.0</td>\n",
       "      <td>9.791667</td>\n",
       "      <td>Medium</td>\n",
       "      <td>0</td>\n",
       "      <td>1</td>\n",
       "    </tr>\n",
       "    <tr>\n",
       "      <th>4</th>\n",
       "      <td>2</td>\n",
       "      <td>164</td>\n",
       "      <td>audi</td>\n",
       "      <td>std</td>\n",
       "      <td>four</td>\n",
       "      <td>sedan</td>\n",
       "      <td>4wd</td>\n",
       "      <td>front</td>\n",
       "      <td>99.4</td>\n",
       "      <td>0.848630</td>\n",
       "      <td>...</td>\n",
       "      <td>8.0</td>\n",
       "      <td>115.0</td>\n",
       "      <td>5500.0</td>\n",
       "      <td>18</td>\n",
       "      <td>22</td>\n",
       "      <td>17450.0</td>\n",
       "      <td>13.055556</td>\n",
       "      <td>Medium</td>\n",
       "      <td>0</td>\n",
       "      <td>1</td>\n",
       "    </tr>\n",
       "  </tbody>\n",
       "</table>\n",
       "<p>5 rows × 29 columns</p>\n",
       "</div>"
      ],
      "text/plain": [
       "   symboling  normalized-losses         make aspiration num-of-doors  \\\n",
       "0          3                122  alfa-romero        std          two   \n",
       "1          3                122  alfa-romero        std          two   \n",
       "2          1                122  alfa-romero        std          two   \n",
       "3          2                164         audi        std         four   \n",
       "4          2                164         audi        std         four   \n",
       "\n",
       "    body-style drive-wheels engine-location  wheel-base    length  ...  \\\n",
       "0  convertible          rwd           front        88.6  0.811148  ...   \n",
       "1  convertible          rwd           front        88.6  0.811148  ...   \n",
       "2    hatchback          rwd           front        94.5  0.822681  ...   \n",
       "3        sedan          fwd           front        99.8  0.848630  ...   \n",
       "4        sedan          4wd           front        99.4  0.848630  ...   \n",
       "\n",
       "   compression-ratio  horsepower  peak-rpm city-mpg highway-mpg    price  \\\n",
       "0                9.0       111.0    5000.0       21          27  13495.0   \n",
       "1                9.0       111.0    5000.0       21          27  16500.0   \n",
       "2                9.0       154.0    5000.0       19          26  16500.0   \n",
       "3               10.0       102.0    5500.0       24          30  13950.0   \n",
       "4                8.0       115.0    5500.0       18          22  17450.0   \n",
       "\n",
       "  city-L/100km  horsepower-binned  diesel  gas  \n",
       "0    11.190476             Medium       0    1  \n",
       "1    11.190476             Medium       0    1  \n",
       "2    12.368421             Medium       0    1  \n",
       "3     9.791667             Medium       0    1  \n",
       "4    13.055556             Medium       0    1  \n",
       "\n",
       "[5 rows x 29 columns]"
      ]
     },
     "execution_count": 3,
     "metadata": {},
     "output_type": "execute_result"
    }
   ],
   "source": [
    "path='https://cf-courses-data.s3.us.cloud-object-storage.appdomain.cloud/IBMDeveloperSkillsNetwork-DA0101EN-SkillsNetwork/labs/Data%20files/automobileEDA.csv'\n",
    "df = pd.read_csv(path)\n",
    "df.head()"
   ]
  },
  {
   "cell_type": "markdown",
   "metadata": {},
   "source": [
    "# analysing individual features patterns using visualization\n",
    "# to be able to choose the right visualization method approprialety, it is good to know the kind of data you are dealing with \n",
    "# for example, if you are dealing with a continuous variable, you can use a histogram or a boxplot to visualize the data\n",
    "# if you are dealing with a categorical variable, you can use a bar chart or a pie chart to visualize the data\n",
    "# if you are dealing with a numerical variable, you can use a scatter plot or a line plot to visualize the data\n",
    "# if you are dealing with a time series data, you can use a time series plot to visualize th data\n",
    "# if you are dealing with a categorical variable with two categories, you can use a bar chart to visualiz the data\n",
    "# if you are dealing with a categorical variable with more than two categories, you can use a bar chart or a pie chart to visualize the data"
   ]
  },
  {
   "cell_type": "code",
   "execution_count": 5,
   "metadata": {},
   "outputs": [
    {
     "data": {
      "text/plain": [
       "dtype('float64')"
      ]
     },
     "execution_count": 5,
     "metadata": {},
     "output_type": "execute_result"
    }
   ],
   "source": [
    "# print(df.dtypes)\n",
    "df.dtypes['peak-rpm']"
   ]
  },
  {
   "cell_type": "code",
   "execution_count": 10,
   "metadata": {},
   "outputs": [
    {
     "name": "stdout",
     "output_type": "stream",
     "text": [
      "0.7820972444156645\n"
     ]
    }
   ],
   "source": [
    "# calculating the correlation between 'wheel-base' (float64) and 'curb-weight' (int64)\n",
    "# df.corr() this line of code tries to find the correlation of diff rent columns in the dataframe\n",
    "correlation = df['wheel-base'].corr(df['curb-weight'])\n",
    "print(correlation)\n"
   ]
  },
  {
   "cell_type": "code",
   "execution_count": 24,
   "metadata": {},
   "outputs": [
    {
     "name": "stdout",
     "output_type": "stream",
     "text": [
      "                       bore    stroke  compression-ratio  horsepower\n",
      "bore               1.000000 -0.055390           0.001263    0.566936\n",
      "stroke            -0.055390  1.000000           0.187923    0.098462\n",
      "compression-ratio  0.001263  0.187923           1.000000   -0.214514\n",
      "horsepower         0.566936  0.098462          -0.214514    1.000000\n",
      "                       bore    stroke  compression-ratio  horsepower\n",
      "bore               1.000000 -0.055390           0.001263    0.566936\n",
      "stroke            -0.055390  1.000000           0.187923    0.098462\n",
      "compression-ratio  0.001263  0.187923           1.000000   -0.214514\n",
      "horsepower         0.566936  0.098462          -0.214514    1.000000\n"
     ]
    }
   ],
   "source": [
    "# Select only the numeric columns\n",
    "numeric_df = df[['bore', 'stroke', 'compression-ratio', 'horsepower']]\n",
    "\n",
    "# Compute the correlation matrix for the selected numeric columns\n",
    "correlation = numeric_df.corr()\n",
    "print(correlation)\n",
    "\n",
    "#  this line of code can also work \n",
    "correlation = df[['bore', 'stroke', 'compression-ratio', 'horsepower']].corr()\n",
    "print (correlation)"
   ]
  },
  {
   "cell_type": "markdown",
   "metadata": {},
   "source": [
    "CONTINUOUS NUMERICAL VARIABLES \n",
    " these are the variables that may contain any value within some range. They are used to represent the continuous data. For example, the height of a person, the weight of a person, the temperature of a room, etc. are all continuous numerical variables. They can be of type integer or float. A greater way to visualise these variables is by using scatterplots with fitted lines. \n",
    " in order to undestand the linear relationship between an individual variable and the price, we can use 'regplot' which plots the scatterplot plus the fitted regression line for the data. this will be useful later on for visualising the fit of the simple linear regression model."
   ]
  },
  {
   "cell_type": "markdown",
   "metadata": {},
   "source": [
    "<!-- CONTINUOUS NUMERICAL VARIABLES\n",
    "These are variables that may contain any value within some range. they can be of type integer, floating point, or even complex. The range of values that a continuous variable can take is theoretically infinite, but in practice, it is limited by the precision of the computer. For example, the variable x in the equation x = 3.14159 is a continuous variable. It can take any value between 3.14159 and 3.14159 + 1 .0e-10, but not any value outside this range. Continuous variables are also known as real variables. -->"
   ]
  },
  {
   "cell_type": "code",
   "execution_count": 31,
   "metadata": {},
   "outputs": [
    {
     "data": {
      "text/plain": [
       "(0.0, 53269.301022005864)"
      ]
     },
     "execution_count": 31,
     "metadata": {},
     "output_type": "execute_result"
    },
    {
     "data": {
      "image/png": "[encoded data removed]",
      "text/plain": [
       "<Figure size 640x480 with 1 Axes>"
      ]
     },
     "metadata": {},
     "output_type": "display_data"
    }
   ],
   "source": [
    "# positive linear relationship\n",
    "sns.regplot(x='engine-size', y='price', data=df)\n",
    "plt.title('Price vs Engine Size')\n",
    "plt.ylim(0, )"
   ]
  },
  {
   "cell_type": "code",
   "execution_count": 33,
   "metadata": {},
   "outputs": [
    {
     "data": {
      "application/vnd.microsoft.datawrangler.viewer.v0+json": {
       "columns": [
        {
         "name": "index",
         "rawType": "object",
         "type": "string"
        },
        {
         "name": "engine-size",
         "rawType": "float64",
         "type": "float"
        },
        {
         "name": "price",
         "rawType": "float64",
         "type": "float"
        }
       ],
       "conversionMethod": "pd.DataFrame",
       "ref": "2a242570-db75-40ba-9b87-5060a383efbc",
       "rows": [
        [
         "engine-size",
         "1.0",
         "0.8723351674455182"
        ],
        [
         "price",
         "0.8723351674455182",
         "1.0"
        ]
       ],
       "shape": {
        "columns": 2,
        "rows": 2
       }
      },
      "text/html": [
       "<div>\n",
       "<style scoped>\n",
       "    .dataframe tbody tr th:only-of-type {\n",
       "        vertical-align: middle;\n",
       "    }\n",
       "\n",
       "    .dataframe tbody tr th {\n",
       "        vertical-align: top;\n",
       "    }\n",
       "\n",
       "    .dataframe thead th {\n",
       "        text-align: right;\n",
       "    }\n",
       "</style>\n",
       "<table border=\"1\" class=\"dataframe\">\n",
       "  <thead>\n",
       "    <tr style=\"text-align: right;\">\n",
       "      <th></th>\n",
       "      <th>engine-size</th>\n",
       "      <th>price</th>\n",
       "    </tr>\n",
       "  </thead>\n",
       "  <tbody>\n",
       "    <tr>\n",
       "      <th>engine-size</th>\n",
       "      <td>1.000000</td>\n",
       "      <td>0.872335</td>\n",
       "    </tr>\n",
       "    <tr>\n",
       "      <th>price</th>\n",
       "      <td>0.872335</td>\n",
       "      <td>1.000000</td>\n",
       "    </tr>\n",
       "  </tbody>\n",
       "</table>\n",
       "</div>"
      ],
      "text/plain": [
       "             engine-size     price\n",
       "engine-size     1.000000  0.872335\n",
       "price           0.872335  1.000000"
      ]
     },
     "execution_count": 33,
     "metadata": {},
     "output_type": "execute_result"
    }
   ],
   "source": [
    "# as the engine-size goes up, the price also goes up and this indicates a positive correlation. therefore, engine-size seems to be a really good predictor. \n",
    "# we can examine the correlation between 'engine-size' and 'price' using the corr() function.\n",
    "df[['engine-size', 'price']].corr()"
   ]
  },
  {
   "cell_type": "code",
   "execution_count": null,
   "metadata": {},
   "outputs": [
    {
     "data": {
      "text/plain": [
       "<Axes: xlabel='highway-mpg', ylabel='price'>"
      ]
     },
     "execution_count": 35,
     "metadata": {},
     "output_type": "execute_result"
    },
    {
     "data": {
      "image/png": "[encoded data removed]",
      "text/plain": [
       "<Figure size 640x480 with 1 Axes>"
      ]
     },
     "metadata": {},
     "output_type": "display_data"
    }
   ],
   "source": [
    "# highway-mpg seems to bve also a good predictor, lets see \n",
    "sns.regplot(x='highway-mpg', y='price', data=df)\\\n",
    "\n"
   ]
  },
  {
   "cell_type": "code",
   "execution_count": 36,
   "metadata": {},
   "outputs": [
    {
     "data": {
      "application/vnd.microsoft.datawrangler.viewer.v0+json": {
       "columns": [
        {
         "name": "index",
         "rawType": "object",
         "type": "string"
        },
        {
         "name": "highway-mpg",
         "rawType": "float64",
         "type": "float"
        },
        {
         "name": "price",
         "rawType": "float64",
         "type": "float"
        }
       ],
       "conversionMethod": "pd.DataFrame",
       "ref": "37998b88-a669-489d-b86f-f406785533d5",
       "rows": [
        [
         "highway-mpg",
         "1.0",
         "-0.7046922650589531"
        ],
        [
         "price",
         "-0.7046922650589531",
         "1.0"
        ]
       ],
       "shape": {
        "columns": 2,
        "rows": 2
       }
      },
      "text/html": [
       "<div>\n",
       "<style scoped>\n",
       "    .dataframe tbody tr th:only-of-type {\n",
       "        vertical-align: middle;\n",
       "    }\n",
       "\n",
       "    .dataframe tbody tr th {\n",
       "        vertical-align: top;\n",
       "    }\n",
       "\n",
       "    .dataframe thead th {\n",
       "        text-align: right;\n",
       "    }\n",
       "</style>\n",
       "<table border=\"1\" class=\"dataframe\">\n",
       "  <thead>\n",
       "    <tr style=\"text-align: right;\">\n",
       "      <th></th>\n",
       "      <th>highway-mpg</th>\n",
       "      <th>price</th>\n",
       "    </tr>\n",
       "  </thead>\n",
       "  <tbody>\n",
       "    <tr>\n",
       "      <th>highway-mpg</th>\n",
       "      <td>1.000000</td>\n",
       "      <td>-0.704692</td>\n",
       "    </tr>\n",
       "    <tr>\n",
       "      <th>price</th>\n",
       "      <td>-0.704692</td>\n",
       "      <td>1.000000</td>\n",
       "    </tr>\n",
       "  </tbody>\n",
       "</table>\n",
       "</div>"
      ],
      "text/plain": [
       "             highway-mpg     price\n",
       "highway-mpg     1.000000 -0.704692\n",
       "price          -0.704692  1.000000"
      ]
     },
     "execution_count": 36,
     "metadata": {},
     "output_type": "execute_result"
    }
   ],
   "source": [
    "# as the highway-mpg goes up, the price decreases. This shows an inverse/negative relationship between these two. \n",
    "# The data is not linear, but it is still possible to find a linear relationship between the two variables. the correlation between these two variables will be\n",
    "df[['highway-mpg', 'price']].corr()"
   ]
  },
  {
   "cell_type": "code",
   "execution_count": 37,
   "metadata": {},
   "outputs": [
    {
     "data": {
      "image/png": "[encoded data removed]",
      "text/plain": [
       "<Figure size 640x480 with 1 Axes>"
      ]
     },
     "metadata": {},
     "output_type": "display_data"
    }
   ],
   "source": [
    "# Weak Linear relationship\n",
    "# lets see if peak-rpm is a good predictor for price \n",
    "sns.regplot(x='peak-rpm', y='price', data=df)\n",
    "plt.title('Price vs Peak RPM')\n",
    "plt.show()"
   ]
  },
  {
   "cell_type": "code",
   "execution_count": 38,
   "metadata": {},
   "outputs": [
    {
     "data": {
      "application/vnd.microsoft.datawrangler.viewer.v0+json": {
       "columns": [
        {
         "name": "index",
         "rawType": "object",
         "type": "string"
        },
        {
         "name": "peak-rpm",
         "rawType": "float64",
         "type": "float"
        },
        {
         "name": "price",
         "rawType": "float64",
         "type": "float"
        }
       ],
       "conversionMethod": "pd.DataFrame",
       "ref": "e35d1e25-837e-4fbe-9773-b028dd89ff9f",
       "rows": [
        [
         "peak-rpm",
         "1.0",
         "-0.10161587407588185"
        ],
        [
         "price",
         "-0.10161587407588185",
         "1.0"
        ]
       ],
       "shape": {
        "columns": 2,
        "rows": 2
       }
      },
      "text/html": [
       "<div>\n",
       "<style scoped>\n",
       "    .dataframe tbody tr th:only-of-type {\n",
       "        vertical-align: middle;\n",
       "    }\n",
       "\n",
       "    .dataframe tbody tr th {\n",
       "        vertical-align: top;\n",
       "    }\n",
       "\n",
       "    .dataframe thead th {\n",
       "        text-align: right;\n",
       "    }\n",
       "</style>\n",
       "<table border=\"1\" class=\"dataframe\">\n",
       "  <thead>\n",
       "    <tr style=\"text-align: right;\">\n",
       "      <th></th>\n",
       "      <th>peak-rpm</th>\n",
       "      <th>price</th>\n",
       "    </tr>\n",
       "  </thead>\n",
       "  <tbody>\n",
       "    <tr>\n",
       "      <th>peak-rpm</th>\n",
       "      <td>1.000000</td>\n",
       "      <td>-0.101616</td>\n",
       "    </tr>\n",
       "    <tr>\n",
       "      <th>price</th>\n",
       "      <td>-0.101616</td>\n",
       "      <td>1.000000</td>\n",
       "    </tr>\n",
       "  </tbody>\n",
       "</table>\n",
       "</div>"
      ],
      "text/plain": [
       "          peak-rpm     price\n",
       "peak-rpm  1.000000 -0.101616\n",
       "price    -0.101616  1.000000"
      ]
     },
     "execution_count": 38,
     "metadata": {},
     "output_type": "execute_result"
    }
   ],
   "source": [
    "# the corr between the two variables\n",
    "df[['peak-rpm', 'price']].corr()"
   ]
  },
  {
   "cell_type": "markdown",
   "metadata": {},
   "source": [
    "# Categorical Variables\n",
    "# These are variables that describes the characteristic of a data unit and are selected from a small group of categories. \n",
    "# The categorical variables can have type 'object' or 'int64'. A good way to visualise these variables is by using the boxplots"
   ]
  },
  {
   "cell_type": "code",
   "execution_count": 39,
   "metadata": {},
   "outputs": [
    {
     "data": {
      "image/png": "[encoded data removed]",
      "text/plain": [
       "<Figure size 640x480 with 1 Axes>"
      ]
     },
     "metadata": {},
     "output_type": "display_data"
    }
   ],
   "source": [
    "# Relationship between the 'body-style' and the 'price'\n",
    "# The 'body-style' is a categorical variable and the 'price' is a continuous variable\n",
    "sns.boxplot(x = 'body-style', y = 'price', data = df)\n",
    "plt.show()"
   ]
  },
  {
   "cell_type": "code",
   "execution_count": null,
   "metadata": {},
   "outputs": [
    {
     "data": {
      "image/png": "[encoded data removed]",
      "text/plain": [
       "<Figure size 640x480 with 1 Axes>"
      ]
     },
     "metadata": {},
     "output_type": "display_data"
    }
   ],
   "source": [
    "# Engine-location\n",
    "sns.boxplot(x = 'engine-location', y = 'price', data = df)\n",
    "plt.show()"
   ]
  },
  {
   "cell_type": "code",
   "execution_count": 41,
   "metadata": {},
   "outputs": [
    {
     "data": {
      "image/png": "[encoded data removed]",
      "text/plain": [
       "<Figure size 640x480 with 1 Axes>"
      ]
     },
     "metadata": {},
     "output_type": "display_data"
    }
   ],
   "source": [
    "# Drive-wheels\n",
    "sns.boxplot(x='drive-wheels', y='price', data=df)\n",
    "plt.title('Boxplot of Price by Drive-wheels')\n",
    "plt.show()"
   ]
  },
  {
   "cell_type": "markdown",
   "metadata": {},
   "source": [
    "# From the above analysis, we see that. \n",
    "# 1.the distribution of price between diff body-styles have a significant overlap. so body-style would not be a good predictor of the price\n",
    "# 2. the distribution of price between these two engine-location categories, the front and the rear, are distinct enough to make the engine-location a good predictor of price.\n",
    "# 3. the distribution of price between the diff drive-wheels differs. as such, drive-wheels could be a good predictor of price."
   ]
  },
  {
   "cell_type": "markdown",
   "metadata": {},
   "source": [
    "<!-- Fro -->"
   ]
  },
  {
   "cell_type": "markdown",
   "metadata": {},
   "source": [
    "# DESCRIPTIVE STATISTICAL ANALYSIS\n",
    "<p>The describe function automatically computes basic statistics for all the continuous variables. Any NaN values are always skipped in descriptive statistics.</p><br>\n",
    "<li>\n",
    "This will show:\n",
    "<ul>count of that variable</ul>\n",
    "<ul>the mean</ul>\n",
    "<ul>the standard deviation (std)</ul>\n",
    "<ul>the minimum value</ul>\n",
    "<ul>the IQR (Interquartile Range: 25%, 50% and 75%)</ul>\n",
    "<ul>the maximum value</ul>\n",
    "</li>"
   ]
  },
  {
   "cell_type": "markdown",
   "metadata": {},
   "source": [
    "df.describe()"
   ]
  },
  {
   "cell_type": "code",
   "execution_count": 43,
   "metadata": {},
   "outputs": [
    {
     "data": {
      "application/vnd.microsoft.datawrangler.viewer.v0+json": {
       "columns": [
        {
         "name": "index",
         "rawType": "object",
         "type": "string"
        },
        {
         "name": "make",
         "rawType": "object",
         "type": "unknown"
        },
        {
         "name": "aspiration",
         "rawType": "object",
         "type": "unknown"
        },
        {
         "name": "num-of-doors",
         "rawType": "object",
         "type": "unknown"
        },
        {
         "name": "body-style",
         "rawType": "object",
         "type": "unknown"
        },
        {
         "name": "drive-wheels",
         "rawType": "object",
         "type": "unknown"
        },
        {
         "name": "engine-location",
         "rawType": "object",
         "type": "unknown"
        },
        {
         "name": "engine-type",
         "rawType": "object",
         "type": "unknown"
        },
        {
         "name": "num-of-cylinders",
         "rawType": "object",
         "type": "unknown"
        },
        {
         "name": "fuel-system",
         "rawType": "object",
         "type": "unknown"
        },
        {
         "name": "horsepower-binned",
         "rawType": "object",
         "type": "unknown"
        }
       ],
       "conversionMethod": "pd.DataFrame",
       "ref": "2c31f14b-b2f9-44de-9530-54e718343797",
       "rows": [
        [
         "count",
         "201",
         "201",
         "201",
         "201",
         "201",
         "201",
         "201",
         "201",
         "201",
         "200"
        ],
        [
         "unique",
         "22",
         "2",
         "2",
         "5",
         "3",
         "2",
         "6",
         "7",
         "8",
         "3"
        ],
        [
         "top",
         "toyota",
         "std",
         "four",
         "sedan",
         "fwd",
         "front",
         "ohc",
         "four",
         "mpfi",
         "Low"
        ],
        [
         "freq",
         "32",
         "165",
         "115",
         "94",
         "118",
         "198",
         "145",
         "157",
         "92",
         "115"
        ]
       ],
       "shape": {
        "columns": 10,
        "rows": 4
       }
      },
      "text/html": [
       "<div>\n",
       "<style scoped>\n",
       "    .dataframe tbody tr th:only-of-type {\n",
       "        vertical-align: middle;\n",
       "    }\n",
       "\n",
       "    .dataframe tbody tr th {\n",
       "        vertical-align: top;\n",
       "    }\n",
       "\n",
       "    .dataframe thead th {\n",
       "        text-align: right;\n",
       "    }\n",
       "</style>\n",
       "<table border=\"1\" class=\"dataframe\">\n",
       "  <thead>\n",
       "    <tr style=\"text-align: right;\">\n",
       "      <th></th>\n",
       "      <th>make</th>\n",
       "      <th>aspiration</th>\n",
       "      <th>num-of-doors</th>\n",
       "      <th>body-style</th>\n",
       "      <th>drive-wheels</th>\n",
       "      <th>engine-location</th>\n",
       "      <th>engine-type</th>\n",
       "      <th>num-of-cylinders</th>\n",
       "      <th>fuel-system</th>\n",
       "      <th>horsepower-binned</th>\n",
       "    </tr>\n",
       "  </thead>\n",
       "  <tbody>\n",
       "    <tr>\n",
       "      <th>count</th>\n",
       "      <td>201</td>\n",
       "      <td>201</td>\n",
       "      <td>201</td>\n",
       "      <td>201</td>\n",
       "      <td>201</td>\n",
       "      <td>201</td>\n",
       "      <td>201</td>\n",
       "      <td>201</td>\n",
       "      <td>201</td>\n",
       "      <td>200</td>\n",
       "    </tr>\n",
       "    <tr>\n",
       "      <th>unique</th>\n",
       "      <td>22</td>\n",
       "      <td>2</td>\n",
       "      <td>2</td>\n",
       "      <td>5</td>\n",
       "      <td>3</td>\n",
       "      <td>2</td>\n",
       "      <td>6</td>\n",
       "      <td>7</td>\n",
       "      <td>8</td>\n",
       "      <td>3</td>\n",
       "    </tr>\n",
       "    <tr>\n",
       "      <th>top</th>\n",
       "      <td>toyota</td>\n",
       "      <td>std</td>\n",
       "      <td>four</td>\n",
       "      <td>sedan</td>\n",
       "      <td>fwd</td>\n",
       "      <td>front</td>\n",
       "      <td>ohc</td>\n",
       "      <td>four</td>\n",
       "      <td>mpfi</td>\n",
       "      <td>Low</td>\n",
       "    </tr>\n",
       "    <tr>\n",
       "      <th>freq</th>\n",
       "      <td>32</td>\n",
       "      <td>165</td>\n",
       "      <td>115</td>\n",
       "      <td>94</td>\n",
       "      <td>118</td>\n",
       "      <td>198</td>\n",
       "      <td>145</td>\n",
       "      <td>157</td>\n",
       "      <td>92</td>\n",
       "      <td>115</td>\n",
       "    </tr>\n",
       "  </tbody>\n",
       "</table>\n",
       "</div>"
      ],
      "text/plain": [
       "          make aspiration num-of-doors body-style drive-wheels  \\\n",
       "count      201        201          201        201          201   \n",
       "unique      22          2            2          5            3   \n",
       "top     toyota        std         four      sedan          fwd   \n",
       "freq        32        165          115         94          118   \n",
       "\n",
       "       engine-location engine-type num-of-cylinders fuel-system  \\\n",
       "count              201         201              201         201   \n",
       "unique               2           6                7           8   \n",
       "top              front         ohc             four        mpfi   \n",
       "freq               198         145              157          92   \n",
       "\n",
       "       horsepower-binned  \n",
       "count                200  \n",
       "unique                 3  \n",
       "top                  Low  \n",
       "freq                 115  "
      ]
     },
     "execution_count": 43,
     "metadata": {},
     "output_type": "execute_result"
    }
   ],
   "source": [
    "df.describe()\n",
    "# The default setting of describe() is to include only numeric columns. \n",
    "# If you want to include non-numeric columns, you can use the include parameter. we can apply the 'describe' method to include variables of type 'object' as follows:\n",
    "df.describe(include=['object'])"
   ]
  },
  {
   "cell_type": "code",
   "execution_count": null,
   "metadata": {},
   "outputs": [
    {
     "data": {
      "application/vnd.microsoft.datawrangler.viewer.v0+json": {
       "columns": [
        {
         "name": "drive-wheels",
         "rawType": "object",
         "type": "string"
        },
        {
         "name": "count",
         "rawType": "int64",
         "type": "integer"
        }
       ],
       "conversionMethod": "pd.DataFrame",
       "ref": "4fb7fcbd-08a6-463b-a1aa-f496b17d8f56",
       "rows": [
        [
         "fwd",
         "118"
        ],
        [
         "rwd",
         "75"
        ],
        [
         "4wd",
         "8"
        ]
       ],
       "shape": {
        "columns": 1,
        "rows": 3
       }
      },
      "text/html": [
       "<div>\n",
       "<style scoped>\n",
       "    .dataframe tbody tr th:only-of-type {\n",
       "        vertical-align: middle;\n",
       "    }\n",
       "\n",
       "    .dataframe tbody tr th {\n",
       "        vertical-align: top;\n",
       "    }\n",
       "\n",
       "    .dataframe thead th {\n",
       "        text-align: right;\n",
       "    }\n",
       "</style>\n",
       "<table border=\"1\" class=\"dataframe\">\n",
       "  <thead>\n",
       "    <tr style=\"text-align: right;\">\n",
       "      <th></th>\n",
       "      <th>count</th>\n",
       "    </tr>\n",
       "    <tr>\n",
       "      <th>drive-wheels</th>\n",
       "      <th></th>\n",
       "    </tr>\n",
       "  </thead>\n",
       "  <tbody>\n",
       "    <tr>\n",
       "      <th>fwd</th>\n",
       "      <td>118</td>\n",
       "    </tr>\n",
       "    <tr>\n",
       "      <th>rwd</th>\n",
       "      <td>75</td>\n",
       "    </tr>\n",
       "    <tr>\n",
       "      <th>4wd</th>\n",
       "      <td>8</td>\n",
       "    </tr>\n",
       "  </tbody>\n",
       "</table>\n",
       "</div>"
      ],
      "text/plain": [
       "              count\n",
       "drive-wheels       \n",
       "fwd             118\n",
       "rwd              75\n",
       "4wd               8"
      ]
     },
     "execution_count": 47,
     "metadata": {},
     "output_type": "execute_result"
    }
   ],
   "source": [
    "# Value counts\n",
    "# Value counts is a good way of understanding how many units of each characteristic/variable we have. \n",
    "df['drive-wheels'].value_counts()\n",
    "# converting the series to a dataframe\n",
    "df['drive-wheels'].value_counts().to_frame()\n"
   ]
  },
  {
   "cell_type": "code",
   "execution_count": null,
   "metadata": {},
   "outputs": [
    {
     "data": {
      "application/vnd.microsoft.datawrangler.viewer.v0+json": {
       "columns": [
        {
         "name": "drive-wheels",
         "rawType": "object",
         "type": "string"
        },
        {
         "name": "count",
         "rawType": "int64",
         "type": "integer"
        }
       ],
       "conversionMethod": "pd.DataFrame",
       "ref": "8d902347-2ac0-44b0-84cd-0d99846410af",
       "rows": [
        [
         "fwd",
         "118"
        ],
        [
         "rwd",
         "75"
        ],
        [
         "4wd",
         "8"
        ]
       ],
       "shape": {
        "columns": 1,
        "rows": 3
       }
      },
      "text/html": [
       "<div>\n",
       "<style scoped>\n",
       "    .dataframe tbody tr th:only-of-type {\n",
       "        vertical-align: middle;\n",
       "    }\n",
       "\n",
       "    .dataframe tbody tr th {\n",
       "        vertical-align: top;\n",
       "    }\n",
       "\n",
       "    .dataframe thead th {\n",
       "        text-align: right;\n",
       "    }\n",
       "</style>\n",
       "<table border=\"1\" class=\"dataframe\">\n",
       "  <thead>\n",
       "    <tr style=\"text-align: right;\">\n",
       "      <th></th>\n",
       "      <th>count</th>\n",
       "    </tr>\n",
       "    <tr>\n",
       "      <th>drive-wheels</th>\n",
       "      <th></th>\n",
       "    </tr>\n",
       "  </thead>\n",
       "  <tbody>\n",
       "    <tr>\n",
       "      <th>fwd</th>\n",
       "      <td>118</td>\n",
       "    </tr>\n",
       "    <tr>\n",
       "      <th>rwd</th>\n",
       "      <td>75</td>\n",
       "    </tr>\n",
       "    <tr>\n",
       "      <th>4wd</th>\n",
       "      <td>8</td>\n",
       "    </tr>\n",
       "  </tbody>\n",
       "</table>\n",
       "</div>"
      ],
      "text/plain": [
       "              count\n",
       "drive-wheels       \n",
       "fwd             118\n",
       "rwd              75\n",
       "4wd               8"
      ]
     },
     "execution_count": 53,
     "metadata": {},
     "output_type": "execute_result"
    }
   ],
   "source": [
    "# repeat  the above steps and save the results to a dataframe and rename\n",
    "drive_wheels_count = df['drive-wheels'].value_counts().to_frame()\n",
    "drive_wheels_count.rename(columns = {'drive-wheels': 'value_counts'}, inplace=True)\n",
    "drive_wheels_count #  this code is not functioning as intended\n",
    "\n",
    "# renaming the dataframe \n",
    "drive_wheels_count.index.name = 'drive-wheels'\n",
    "drive_wheels_count\n"
   ]
  },
  {
   "cell_type": "code",
   "execution_count": null,
   "metadata": {},
   "outputs": [
    {
     "data": {
      "application/vnd.microsoft.datawrangler.viewer.v0+json": {
       "columns": [
        {
         "name": "engine-location",
         "rawType": "object",
         "type": "string"
        },
        {
         "name": "count",
         "rawType": "int64",
         "type": "integer"
        }
       ],
       "conversionMethod": "pd.DataFrame",
       "ref": "18a350f1-98fa-4dab-b8bb-8bf3d38e3df8",
       "rows": [
        [
         "front",
         "198"
        ],
        [
         "rear",
         "3"
        ]
       ],
       "shape": {
        "columns": 1,
        "rows": 2
       }
      },
      "text/html": [
       "<div>\n",
       "<style scoped>\n",
       "    .dataframe tbody tr th:only-of-type {\n",
       "        vertical-align: middle;\n",
       "    }\n",
       "\n",
       "    .dataframe tbody tr th {\n",
       "        vertical-align: top;\n",
       "    }\n",
       "\n",
       "    .dataframe thead th {\n",
       "        text-align: right;\n",
       "    }\n",
       "</style>\n",
       "<table border=\"1\" class=\"dataframe\">\n",
       "  <thead>\n",
       "    <tr style=\"text-align: right;\">\n",
       "      <th></th>\n",
       "      <th>count</th>\n",
       "    </tr>\n",
       "    <tr>\n",
       "      <th>engine-location</th>\n",
       "      <th></th>\n",
       "    </tr>\n",
       "  </thead>\n",
       "  <tbody>\n",
       "    <tr>\n",
       "      <th>front</th>\n",
       "      <td>198</td>\n",
       "    </tr>\n",
       "    <tr>\n",
       "      <th>rear</th>\n",
       "      <td>3</td>\n",
       "    </tr>\n",
       "  </tbody>\n",
       "</table>\n",
       "</div>"
      ],
      "text/plain": [
       "                 count\n",
       "engine-location       \n",
       "front              198\n",
       "rear                 3"
      ]
     },
     "execution_count": 57,
     "metadata": {},
     "output_type": "execute_result"
    }
   ],
   "source": [
    "# Repeat this for engine-location\n",
    "# engine-location as variable\n",
    "engine_loc_counts = df['engine-location'].value_counts().to_frame()\n",
    "engine_loc_counts.rename(columns={'engine-location': 'value_counts'}, inplace=True)\n",
    "engine_loc_counts.index.name = 'engine-location'\n",
    "engine_loc_counts.head(10)\n",
    "\n"
   ]
  },
  {
   "cell_type": "markdown",
   "metadata": {},
   "source": [
    "After examining the value counts of engine-location, we can see that it is not a good predictor variable for the price. This is because we only have 3 cars with rear engine and 198 in the front<br>\n",
    "thus we are not able to draw any conclusions about the engine location."
   ]
  },
  {
   "cell_type": "markdown",
   "metadata": {},
   "source": [
    "<h1>Basics of Grouping</h1>\n",
    "<p> The 'groupby' function groups databy diff categories. The data is grouped based on one or several variables and the analysis is perfomed on individual groups.\n",
    "</p>"
   ]
  },
  {
   "cell_type": "code",
   "execution_count": null,
   "metadata": {},
   "outputs": [],
   "source": [
    "df['drive-wheels'].unique()\n",
    "# If we want to know, on average, which type of drive-wheels is most common, we can group the 'drive-wheels' and then find the average using the mean() function\n",
    "df_group_one = df[['drive-wheels', 'body-style' 'price']]\n",
    "# grouping results and calculating the average\n",
    "df_group_one = df_group_one.groupby(['drive-wheels'], as_index=False).mean()\n",
    "df_group_one \n",
    "# there is an error in this code since the body-style is an object and thus no output"
   ]
  },
  {
   "cell_type": "markdown",
   "metadata": {},
   "source": [
    "<p>From our data, it seems rear-wheel drive vehicles are, on average, the most expensive, while 4-wheel and front-wheel are approximately the same in price.</p>\n",
    "\n",
    "<p>You can also group by multiple variables. For example, let's group by both 'drive-wheels' and 'body-style'. This groups the dataframe by the unique combination of 'drive-wheels' and 'body-style'. We can store the results in the variable 'grouped_test1'.</p>\n"
   ]
  },
  {
   "cell_type": "code",
   "execution_count": 97,
   "metadata": {},
   "outputs": [
    {
     "data": {
      "application/vnd.microsoft.datawrangler.viewer.v0+json": {
       "columns": [
        {
         "name": "index",
         "rawType": "int64",
         "type": "integer"
        },
        {
         "name": "drive-wheels",
         "rawType": "object",
         "type": "string"
        },
        {
         "name": "body-style",
         "rawType": "object",
         "type": "string"
        },
        {
         "name": "price",
         "rawType": "float64",
         "type": "float"
        }
       ],
       "conversionMethod": "pd.DataFrame",
       "ref": "7d6ecd4b-014c-4220-acf2-a58176738c0f",
       "rows": [
        [
         "0",
         "4wd",
         "hatchback",
         "7603.0"
        ],
        [
         "1",
         "4wd",
         "sedan",
         "12647.333333333334"
        ],
        [
         "2",
         "4wd",
         "wagon",
         "9095.75"
        ],
        [
         "3",
         "fwd",
         "convertible",
         "11595.0"
        ],
        [
         "4",
         "fwd",
         "hardtop",
         "8249.0"
        ],
        [
         "5",
         "fwd",
         "hatchback",
         "8396.387755102041"
        ],
        [
         "6",
         "fwd",
         "sedan",
         "9811.8"
        ],
        [
         "7",
         "fwd",
         "wagon",
         "9997.333333333334"
        ],
        [
         "8",
         "rwd",
         "convertible",
         "23949.6"
        ],
        [
         "9",
         "rwd",
         "hardtop",
         "24202.714285714286"
        ],
        [
         "10",
         "rwd",
         "hatchback",
         "14337.777777777777"
        ],
        [
         "11",
         "rwd",
         "sedan",
         "21711.833333333332"
        ],
        [
         "12",
         "rwd",
         "wagon",
         "16994.222222222223"
        ]
       ],
       "shape": {
        "columns": 3,
        "rows": 13
       }
      },
      "text/html": [
       "<div>\n",
       "<style scoped>\n",
       "    .dataframe tbody tr th:only-of-type {\n",
       "        vertical-align: middle;\n",
       "    }\n",
       "\n",
       "    .dataframe tbody tr th {\n",
       "        vertical-align: top;\n",
       "    }\n",
       "\n",
       "    .dataframe thead th {\n",
       "        text-align: right;\n",
       "    }\n",
       "</style>\n",
       "<table border=\"1\" class=\"dataframe\">\n",
       "  <thead>\n",
       "    <tr style=\"text-align: right;\">\n",
       "      <th></th>\n",
       "      <th>drive-wheels</th>\n",
       "      <th>body-style</th>\n",
       "      <th>price</th>\n",
       "    </tr>\n",
       "  </thead>\n",
       "  <tbody>\n",
       "    <tr>\n",
       "      <th>0</th>\n",
       "      <td>4wd</td>\n",
       "      <td>hatchback</td>\n",
       "      <td>7603.000000</td>\n",
       "    </tr>\n",
       "    <tr>\n",
       "      <th>1</th>\n",
       "      <td>4wd</td>\n",
       "      <td>sedan</td>\n",
       "      <td>12647.333333</td>\n",
       "    </tr>\n",
       "    <tr>\n",
       "      <th>2</th>\n",
       "      <td>4wd</td>\n",
       "      <td>wagon</td>\n",
       "      <td>9095.750000</td>\n",
       "    </tr>\n",
       "    <tr>\n",
       "      <th>3</th>\n",
       "      <td>fwd</td>\n",
       "      <td>convertible</td>\n",
       "      <td>11595.000000</td>\n",
       "    </tr>\n",
       "    <tr>\n",
       "      <th>4</th>\n",
       "      <td>fwd</td>\n",
       "      <td>hardtop</td>\n",
       "      <td>8249.000000</td>\n",
       "    </tr>\n",
       "    <tr>\n",
       "      <th>5</th>\n",
       "      <td>fwd</td>\n",
       "      <td>hatchback</td>\n",
       "      <td>8396.387755</td>\n",
       "    </tr>\n",
       "    <tr>\n",
       "      <th>6</th>\n",
       "      <td>fwd</td>\n",
       "      <td>sedan</td>\n",
       "      <td>9811.800000</td>\n",
       "    </tr>\n",
       "    <tr>\n",
       "      <th>7</th>\n",
       "      <td>fwd</td>\n",
       "      <td>wagon</td>\n",
       "      <td>9997.333333</td>\n",
       "    </tr>\n",
       "    <tr>\n",
       "      <th>8</th>\n",
       "      <td>rwd</td>\n",
       "      <td>convertible</td>\n",
       "      <td>23949.600000</td>\n",
       "    </tr>\n",
       "    <tr>\n",
       "      <th>9</th>\n",
       "      <td>rwd</td>\n",
       "      <td>hardtop</td>\n",
       "      <td>24202.714286</td>\n",
       "    </tr>\n",
       "    <tr>\n",
       "      <th>10</th>\n",
       "      <td>rwd</td>\n",
       "      <td>hatchback</td>\n",
       "      <td>14337.777778</td>\n",
       "    </tr>\n",
       "    <tr>\n",
       "      <th>11</th>\n",
       "      <td>rwd</td>\n",
       "      <td>sedan</td>\n",
       "      <td>21711.833333</td>\n",
       "    </tr>\n",
       "    <tr>\n",
       "      <th>12</th>\n",
       "      <td>rwd</td>\n",
       "      <td>wagon</td>\n",
       "      <td>16994.222222</td>\n",
       "    </tr>\n",
       "  </tbody>\n",
       "</table>\n",
       "</div>"
      ],
      "text/plain": [
       "   drive-wheels   body-style         price\n",
       "0           4wd    hatchback   7603.000000\n",
       "1           4wd        sedan  12647.333333\n",
       "2           4wd        wagon   9095.750000\n",
       "3           fwd  convertible  11595.000000\n",
       "4           fwd      hardtop   8249.000000\n",
       "5           fwd    hatchback   8396.387755\n",
       "6           fwd        sedan   9811.800000\n",
       "7           fwd        wagon   9997.333333\n",
       "8           rwd  convertible  23949.600000\n",
       "9           rwd      hardtop  24202.714286\n",
       "10          rwd    hatchback  14337.777778\n",
       "11          rwd        sedan  21711.833333\n",
       "12          rwd        wagon  16994.222222"
      ]
     },
     "execution_count": 97,
     "metadata": {},
     "output_type": "execute_result"
    }
   ],
   "source": [
    "# grouping the results\n",
    "df_gptest = df[['drive-wheels', 'body-style', 'price']]\n",
    "grouped_test1 = df_gptest.groupby(['drive-wheels', 'body-style'], as_index=False).mean()\n",
    "grouped_test1"
   ]
  },
  {
   "cell_type": "markdown",
   "metadata": {},
   "source": [
    "<p>This grouped data is much easier to visualize when it is made into a pivot table. A pivot table is like an Excel spreadsheet, with one variable along the column and another along the row. We can convert the dataframe to a pivot table using the method \"pivot\" to create a pivot table from the groups.</p>\n",
    "\n",
    "<p>In this case, we will leave the drive-wheels variable as the rows of the table, and pivot body-style to become the columns of the table:</p>\n"
   ]
  },
  {
   "cell_type": "code",
   "execution_count": 98,
   "metadata": {},
   "outputs": [
    {
     "data": {
      "application/vnd.microsoft.datawrangler.viewer.v0+json": {
       "columns": [
        {
         "name": "drive-wheels",
         "rawType": "object",
         "type": "string"
        },
        {
         "name": "('price', 'convertible')",
         "rawType": "float64",
         "type": "float"
        },
        {
         "name": "('price', 'hardtop')",
         "rawType": "float64",
         "type": "float"
        },
        {
         "name": "('price', 'hatchback')",
         "rawType": "float64",
         "type": "float"
        },
        {
         "name": "('price', 'sedan')",
         "rawType": "float64",
         "type": "float"
        },
        {
         "name": "('price', 'wagon')",
         "rawType": "float64",
         "type": "float"
        }
       ],
       "conversionMethod": "pd.DataFrame",
       "ref": "658eeb30-20de-4fbb-8dca-c825776c2753",
       "rows": [
        [
         "4wd",
         null,
         null,
         "7603.0",
         "12647.333333333334",
         "9095.75"
        ],
        [
         "fwd",
         "11595.0",
         "8249.0",
         "8396.387755102041",
         "9811.8",
         "9997.333333333334"
        ],
        [
         "rwd",
         "23949.6",
         "24202.714285714286",
         "14337.777777777777",
         "21711.833333333332",
         "16994.222222222223"
        ]
       ],
       "shape": {
        "columns": 5,
        "rows": 3
       }
      },
      "text/html": [
       "<div>\n",
       "<style scoped>\n",
       "    .dataframe tbody tr th:only-of-type {\n",
       "        vertical-align: middle;\n",
       "    }\n",
       "\n",
       "    .dataframe tbody tr th {\n",
       "        vertical-align: top;\n",
       "    }\n",
       "\n",
       "    .dataframe thead tr th {\n",
       "        text-align: left;\n",
       "    }\n",
       "\n",
       "    .dataframe thead tr:last-of-type th {\n",
       "        text-align: right;\n",
       "    }\n",
       "</style>\n",
       "<table border=\"1\" class=\"dataframe\">\n",
       "  <thead>\n",
       "    <tr>\n",
       "      <th></th>\n",
       "      <th colspan=\"5\" halign=\"left\">price</th>\n",
       "    </tr>\n",
       "    <tr>\n",
       "      <th>body-style</th>\n",
       "      <th>convertible</th>\n",
       "      <th>hardtop</th>\n",
       "      <th>hatchback</th>\n",
       "      <th>sedan</th>\n",
       "      <th>wagon</th>\n",
       "    </tr>\n",
       "    <tr>\n",
       "      <th>drive-wheels</th>\n",
       "      <th></th>\n",
       "      <th></th>\n",
       "      <th></th>\n",
       "      <th></th>\n",
       "      <th></th>\n",
       "    </tr>\n",
       "  </thead>\n",
       "  <tbody>\n",
       "    <tr>\n",
       "      <th>4wd</th>\n",
       "      <td>NaN</td>\n",
       "      <td>NaN</td>\n",
       "      <td>7603.000000</td>\n",
       "      <td>12647.333333</td>\n",
       "      <td>9095.750000</td>\n",
       "    </tr>\n",
       "    <tr>\n",
       "      <th>fwd</th>\n",
       "      <td>11595.0</td>\n",
       "      <td>8249.000000</td>\n",
       "      <td>8396.387755</td>\n",
       "      <td>9811.800000</td>\n",
       "      <td>9997.333333</td>\n",
       "    </tr>\n",
       "    <tr>\n",
       "      <th>rwd</th>\n",
       "      <td>23949.6</td>\n",
       "      <td>24202.714286</td>\n",
       "      <td>14337.777778</td>\n",
       "      <td>21711.833333</td>\n",
       "      <td>16994.222222</td>\n",
       "    </tr>\n",
       "  </tbody>\n",
       "</table>\n",
       "</div>"
      ],
      "text/plain": [
       "                   price                                            \\\n",
       "body-style   convertible       hardtop     hatchback         sedan   \n",
       "drive-wheels                                                         \n",
       "4wd                  NaN           NaN   7603.000000  12647.333333   \n",
       "fwd              11595.0   8249.000000   8396.387755   9811.800000   \n",
       "rwd              23949.6  24202.714286  14337.777778  21711.833333   \n",
       "\n",
       "                            \n",
       "body-style           wagon  \n",
       "drive-wheels                \n",
       "4wd            9095.750000  \n",
       "fwd            9997.333333  \n",
       "rwd           16994.222222  "
      ]
     },
     "execution_count": 98,
     "metadata": {},
     "output_type": "execute_result"
    }
   ],
   "source": [
    "# grouped_pivot = grouped_pivot.sort_values(by='count', ascending=False)\n",
    "grouped_pivot = grouped_test1.pivot(index = 'drive-wheels', columns = 'body-style')\n",
    "grouped_pivot"
   ]
  },
  {
   "cell_type": "markdown",
   "metadata": {},
   "source": [
    "<p>Often, we won't have data for some of the pivot cells. We can fill these missing cells with the value 0, but any other value could potentially be used as well. It should be mentioned that missing data is quite a complex subject and is an entire course on its own.</p>\n"
   ]
  },
  {
   "cell_type": "code",
   "execution_count": 99,
   "metadata": {},
   "outputs": [
    {
     "data": {
      "application/vnd.microsoft.datawrangler.viewer.v0+json": {
       "columns": [
        {
         "name": "drive-wheels",
         "rawType": "object",
         "type": "string"
        },
        {
         "name": "('price', 'convertible')",
         "rawType": "float64",
         "type": "float"
        },
        {
         "name": "('price', 'hardtop')",
         "rawType": "float64",
         "type": "float"
        },
        {
         "name": "('price', 'hatchback')",
         "rawType": "float64",
         "type": "float"
        },
        {
         "name": "('price', 'sedan')",
         "rawType": "float64",
         "type": "float"
        },
        {
         "name": "('price', 'wagon')",
         "rawType": "float64",
         "type": "float"
        }
       ],
       "conversionMethod": "pd.DataFrame",
       "ref": "278891b1-9ab0-465a-9c82-ca5e620d88da",
       "rows": [
        [
         "4wd",
         "0.0",
         "0.0",
         "7603.0",
         "12647.333333333334",
         "9095.75"
        ],
        [
         "fwd",
         "11595.0",
         "8249.0",
         "8396.387755102041",
         "9811.8",
         "9997.333333333334"
        ],
        [
         "rwd",
         "23949.6",
         "24202.714285714286",
         "14337.777777777777",
         "21711.833333333332",
         "16994.222222222223"
        ]
       ],
       "shape": {
        "columns": 5,
        "rows": 3
       }
      },
      "text/html": [
       "<div>\n",
       "<style scoped>\n",
       "    .dataframe tbody tr th:only-of-type {\n",
       "        vertical-align: middle;\n",
       "    }\n",
       "\n",
       "    .dataframe tbody tr th {\n",
       "        vertical-align: top;\n",
       "    }\n",
       "\n",
       "    .dataframe thead tr th {\n",
       "        text-align: left;\n",
       "    }\n",
       "\n",
       "    .dataframe thead tr:last-of-type th {\n",
       "        text-align: right;\n",
       "    }\n",
       "</style>\n",
       "<table border=\"1\" class=\"dataframe\">\n",
       "  <thead>\n",
       "    <tr>\n",
       "      <th></th>\n",
       "      <th colspan=\"5\" halign=\"left\">price</th>\n",
       "    </tr>\n",
       "    <tr>\n",
       "      <th>body-style</th>\n",
       "      <th>convertible</th>\n",
       "      <th>hardtop</th>\n",
       "      <th>hatchback</th>\n",
       "      <th>sedan</th>\n",
       "      <th>wagon</th>\n",
       "    </tr>\n",
       "    <tr>\n",
       "      <th>drive-wheels</th>\n",
       "      <th></th>\n",
       "      <th></th>\n",
       "      <th></th>\n",
       "      <th></th>\n",
       "      <th></th>\n",
       "    </tr>\n",
       "  </thead>\n",
       "  <tbody>\n",
       "    <tr>\n",
       "      <th>4wd</th>\n",
       "      <td>0.0</td>\n",
       "      <td>0.000000</td>\n",
       "      <td>7603.000000</td>\n",
       "      <td>12647.333333</td>\n",
       "      <td>9095.750000</td>\n",
       "    </tr>\n",
       "    <tr>\n",
       "      <th>fwd</th>\n",
       "      <td>11595.0</td>\n",
       "      <td>8249.000000</td>\n",
       "      <td>8396.387755</td>\n",
       "      <td>9811.800000</td>\n",
       "      <td>9997.333333</td>\n",
       "    </tr>\n",
       "    <tr>\n",
       "      <th>rwd</th>\n",
       "      <td>23949.6</td>\n",
       "      <td>24202.714286</td>\n",
       "      <td>14337.777778</td>\n",
       "      <td>21711.833333</td>\n",
       "      <td>16994.222222</td>\n",
       "    </tr>\n",
       "  </tbody>\n",
       "</table>\n",
       "</div>"
      ],
      "text/plain": [
       "                   price                                            \\\n",
       "body-style   convertible       hardtop     hatchback         sedan   \n",
       "drive-wheels                                                         \n",
       "4wd                  0.0      0.000000   7603.000000  12647.333333   \n",
       "fwd              11595.0   8249.000000   8396.387755   9811.800000   \n",
       "rwd              23949.6  24202.714286  14337.777778  21711.833333   \n",
       "\n",
       "                            \n",
       "body-style           wagon  \n",
       "drive-wheels                \n",
       "4wd            9095.750000  \n",
       "fwd            9997.333333  \n",
       "rwd           16994.222222  "
      ]
     },
     "execution_count": 99,
     "metadata": {},
     "output_type": "execute_result"
    }
   ],
   "source": [
    "grouped_pivot = grouped_pivot.fillna(0) #fill missing values with 0\n",
    "grouped_pivot"
   ]
  },
  {
   "cell_type": "code",
   "execution_count": 100,
   "metadata": {},
   "outputs": [
    {
     "data": {
      "application/vnd.microsoft.datawrangler.viewer.v0+json": {
       "columns": [
        {
         "name": "index",
         "rawType": "int64",
         "type": "integer"
        },
        {
         "name": "body-style",
         "rawType": "object",
         "type": "string"
        },
        {
         "name": "price",
         "rawType": "float64",
         "type": "float"
        }
       ],
       "conversionMethod": "pd.DataFrame",
       "ref": "00f43299-00cc-4914-afec-938cd58291c8",
       "rows": [
        [
         "0",
         "convertible",
         "21890.5"
        ],
        [
         "1",
         "hardtop",
         "22208.5"
        ],
        [
         "2",
         "hatchback",
         "9957.441176470587"
        ],
        [
         "3",
         "sedan",
         "14459.755319148937"
        ],
        [
         "4",
         "wagon",
         "12371.96"
        ]
       ],
       "shape": {
        "columns": 2,
        "rows": 5
       }
      },
      "text/html": [
       "<div>\n",
       "<style scoped>\n",
       "    .dataframe tbody tr th:only-of-type {\n",
       "        vertical-align: middle;\n",
       "    }\n",
       "\n",
       "    .dataframe tbody tr th {\n",
       "        vertical-align: top;\n",
       "    }\n",
       "\n",
       "    .dataframe thead th {\n",
       "        text-align: right;\n",
       "    }\n",
       "</style>\n",
       "<table border=\"1\" class=\"dataframe\">\n",
       "  <thead>\n",
       "    <tr style=\"text-align: right;\">\n",
       "      <th></th>\n",
       "      <th>body-style</th>\n",
       "      <th>price</th>\n",
       "    </tr>\n",
       "  </thead>\n",
       "  <tbody>\n",
       "    <tr>\n",
       "      <th>0</th>\n",
       "      <td>convertible</td>\n",
       "      <td>21890.500000</td>\n",
       "    </tr>\n",
       "    <tr>\n",
       "      <th>1</th>\n",
       "      <td>hardtop</td>\n",
       "      <td>22208.500000</td>\n",
       "    </tr>\n",
       "    <tr>\n",
       "      <th>2</th>\n",
       "      <td>hatchback</td>\n",
       "      <td>9957.441176</td>\n",
       "    </tr>\n",
       "    <tr>\n",
       "      <th>3</th>\n",
       "      <td>sedan</td>\n",
       "      <td>14459.755319</td>\n",
       "    </tr>\n",
       "    <tr>\n",
       "      <th>4</th>\n",
       "      <td>wagon</td>\n",
       "      <td>12371.960000</td>\n",
       "    </tr>\n",
       "  </tbody>\n",
       "</table>\n",
       "</div>"
      ],
      "text/plain": [
       "    body-style         price\n",
       "0  convertible  21890.500000\n",
       "1      hardtop  22208.500000\n",
       "2    hatchback   9957.441176\n",
       "3        sedan  14459.755319\n",
       "4        wagon  12371.960000"
      ]
     },
     "execution_count": 100,
     "metadata": {},
     "output_type": "execute_result"
    }
   ],
   "source": [
    "# average car price based on the body-style\n",
    "df_gptest2 = df[['body-style', 'price']]\n",
    "grouped_test_bodystyle = df_gptest2.groupby(['body-style'], as_index=False).mean()\n",
    "grouped_test_bodystyle"
   ]
  },
  {
   "cell_type": "code",
   "execution_count": 101,
   "metadata": {},
   "outputs": [
    {
     "data": {
      "image/png": "[encoded data removed]",
      "text/plain": [
       "<Figure size 640x480 with 2 Axes>"
      ]
     },
     "metadata": {},
     "output_type": "display_data"
    }
   ],
   "source": [
    "# visualizing the grouped data\n",
    "plt.pcolor(grouped_pivot,  cmap='RdBu')\n",
    "plt.colorbar()\n",
    "plt.show()"
   ]
  },
  {
   "cell_type": "markdown",
   "metadata": {},
   "source": [
    "<p>The heatmap plots the target variable (price) proportional to colour with respect to the variables 'drive-wheel' and 'body-style' on the vertical and horizontal axis, respectively. This allows us to visualize how the price is related to 'drive-wheel' and 'body-style'.</p>\n",
    "\n",
    "<p>The default labels convey no useful information to us. Let's change that:</p>\n"
   ]
  },
  {
   "cell_type": "code",
   "execution_count": 102,
   "metadata": {},
   "outputs": [
    {
     "data": {
      "image/png": "[encoded data removed]",
      "text/plain": [
       "<Figure size 640x480 with 2 Axes>"
      ]
     },
     "metadata": {},
     "output_type": "display_data"
    }
   ],
   "source": [
    "# changing the default labels\n",
    "fig, ax = plt.subplots()\n",
    "im = ax.pcolor(grouped_pivot, cmap='RdBu')\n",
    "# label names\n",
    "row_labels = grouped_pivot.columns.levels[1]\n",
    "col_labels = grouped_pivot.index\n",
    "\n",
    "# move the ticks and labels to the center\n",
    "ax.set_xticks(np.arange(grouped_pivot.shape[1]) + 0.5, minor=False)\n",
    "ax.set_yticks(np.arange(grouped_pivot.shape[0]) + 0.5, minor=False)\n",
    "\n",
    "# insert labels\n",
    "ax.set_xticklabels(row_labels, minor=False)\n",
    "ax.set_yticklabels(col_labels, minor=False)\n",
    "\n",
    "# rotate the Label if too long\n",
    "plt.xticks(rotation=90)\n",
    "fig.colorbar(im)\n",
    "plt.show()\n"
   ]
  },
  {
   "cell_type": "markdown",
   "metadata": {},
   "source": [
    "<p>Visualization is very important in data science, and Python visualization packages provide great freedom. We will go more in-depth in a separate Python visualizations course.</p>\n",
    "\n",
    "<p>The main question we want to answer in this module is, \"What are the main characteristics which have the most impact on the car price?\".</p>\n",
    "\n",
    "<p>To get a better measure of the important characteristics, we look at the correlation of these variables with the car price. In other words: how is the car price dependent on this variable?</p>\n"
   ]
  },
  {
   "cell_type": "markdown",
   "metadata": {},
   "source": [
    "<h2 id=\"correlation_causation\">Correlation and Causation</h2>\n"
   ]
  },
  {
   "cell_type": "markdown",
   "metadata": {},
   "source": [
    "<p><b>Correlation</b>: a measure of the extent of interdependence between variables.</p>\n",
    "\n",
    "<p><b>Causation</b>: the relationship between cause and effect between two variables.</p>\n",
    "\n",
    "<p>It is important to know the difference between these two. Correlation does not imply causation. Determining correlation is much simpler  the determining causation as causation may require independent experimentation.</p>"
   ]
  },
  {
   "cell_type": "markdown",
   "metadata": {},
   "source": [
    "<p><b>Pearson Correlation</b></p>\n",
    "<p>The Pearson Correlation measures the linear dependence between two variables X and Y.</p>\n",
    "<p>The resulting coefficient is a value between -1 and 1 inclusive, where:</p>\n",
    "<ul>\n",
    "    <li><b>1</b>: Perfect positive linear correlation.</li>\n",
    "    <li><b>0</b>: No linear correlation, the two variables most likely do not affect each other.</li>\n",
    "    <li><b>-1</b>: Perfect negative linear correlation.</li>\n",
    "</ul>\n",
    "\n",
    "\n",
    "<p>Pearson Correlation is the default method of the function \"corr\". Like before, we can calculate the Pearson Correlation of the of the 'int64' or 'float64'  variables.</p>\n",
    "\n",
    "<b>P-value</b>\n",
    "<p>What is this P-value? The P-value is the probability value that the correlation between these two variables is statistically significant. Normally, we choose a significance level of 0.05, which means that we are 95% confident that the correlation between the variables is significant.</p>\n",
    "\n",
    "By convention, when the\n",
    "<ul>\n",
    "    <li>p-value is $<$ 0.001: we say there is strong evidence that the correlation is significant.</li>\n",
    "    <li>the p-value is $<$ 0.05: there is moderate evidence that the correlation is significant.</li>\n",
    "    <li>the p-value is $<$ 0.1: there is weak evidence that the correlation is significant.</li>\n",
    "    <li>the p-value is $>$ 0.1: there is no evidence that the correlation is significant.</li>\n",
    "</ul>\n"
   ]
  },
  {
   "cell_type": "code",
   "execution_count": 103,
   "metadata": {},
   "outputs": [
    {
     "name": "stdout",
     "output_type": "stream",
     "text": [
      " The pearsons Correlation Coefficient for wheel-base vs price is: 0.5846418222655081 with a P-value of: 8.076488270732847e-20\n",
      " The pearsons Correlation Coefficient for horsepower vs price is: 0.809574567003656 with a P-value of: 6.369057428259638e-48\n",
      " The pearsons Correlation Coefficient for length vs price is: 0.690628380448364 with a P-value of: 8.016477466158899e-30\n",
      "The Pearson Correlation Coefficient for width vs price is 0.7512653440522674  with a P-value of P = 9.200335510481227e-38\n",
      "The Pearson Correlation Coefficient for curb-weigth vs price is 0.8344145257702845  with a P-value of P =  2.189577238893924e-53\n",
      "The Pearson Correlation Coefficient engine-size vs price is 0.8723351674455185  with a P-value of P = 9.26549162219869e-64\n",
      "The Pearson Correlation Coefficient for bore vs price is 0.5431553832626603  with a P-value of P =   8.049189483935274e-17\n",
      "The Pearson Correlation Coefficient for city-mpg vs price is -0.6865710067844679  with a P-value of P =  2.3211320655675065e-29\n",
      "The Pearson Correlation Coefficient for highway-mpg vs price is -0.7046922650589529  with a P-value of P =  1.7495471144476634e-31\n"
     ]
    }
   ],
   "source": [
    "# we can obtain this information from using the 'stats' module in the scipy library\n",
    "from scipy import stats\n",
    "# pearsons correlation coefficients  and P-vlaue for 'wheel-base' and 'price'\n",
    "pearson_coef, p_value = stats.pearsonr(df['wheel-base'], df['price'])\n",
    "print(\" The pearsons Correlation Coefficient for wheel-base vs price is:\", pearson_coef, \"with a P-value of:\", p_value)\n",
    "# Since the p-value is $<$ 0.001, the correlation between wheel-base and price is statistically significant, although the linear relationship isn't extremely strong (~0.585). \n",
    "\n",
    "\n",
    "# Horse-power vs price\n",
    "pearson_coef, p_value = stats.pearsonr(df['horsepower'], df['price'])\n",
    "print(\" The pearsons Correlation Coefficient for horsepower vs price is:\", pearson_coef, \"with a P-value of:\", p_value)\n",
    "\n",
    "# Since the p-value is \n",
    "#  0.001, the correlation between horsepower and price is statistically significant, and the linear relationship is quite strong (~0.809, close to 1).\n",
    "\n",
    "# length vs price \n",
    "pearson_coef, p_value = stats.pearsonr(df['length'], df['price'])\n",
    "print(\" The pearsons Correlation Coefficient for length vs price is:\", pearson_coef, \"with a P-value of:\", p_value)\n",
    "# Since the p-value is < 0.001, the correlation between length and price is statistically significant, and the linear relationship is moderately strong (~0.691)\n",
    "\n",
    "# width vs price\n",
    "pearson_coef, p_value = stats.pearsonr(df['width'], df['price'])\n",
    "print(\"The Pearson Correlation Coefficient for width vs price is\", pearson_coef, \" with a P-value of P =\", p_value ) \n",
    "\n",
    "# Since the p-value is < 0.001, the correlation between width and price is statistically significant, and the linear relationship is quite strong (~0.751).\n",
    "\n",
    "\n",
    "# curb-weight vs price \n",
    "pearson_coef, p_value = stats.pearsonr(df['curb-weight'], df['price'])\n",
    "print( \"The Pearson Correlation Coefficient for curb-weigth vs price is\", pearson_coef, \" with a P-value of P = \", p_value) \n",
    "\n",
    "# Since the p-value is <0.001, the correlation between curb-weight and price is statistically significant, and the linear relationship is quite strong (~0.834).\n",
    "\n",
    "# engine-size vs price\n",
    "pearson_coef, p_value = stats.pearsonr(df['engine-size'], df['price'])\n",
    "print(\"The Pearson Correlation Coefficient engine-size vs price is\", pearson_coef, \" with a P-value of P =\", p_value) \n",
    "\n",
    "# Since the p-value is <0.001, the correlation between engine-size and price is statistically significant, and the linear relationship is very strong (~0.872).\n",
    "\n",
    "# bore vs price\n",
    "pearson_coef, p_value = stats.pearsonr(df['bore'], df['price'])\n",
    "print(\"The Pearson Correlation Coefficient for bore vs price is\", pearson_coef, \" with a P-value of P =  \", p_value ) \n",
    "# Since the p-value is < 0.001, the correlation between bore and price is statistically significant, but the linear relationship is only moderate (~0.521).\n",
    "\n",
    "\n",
    "\n",
    "# We can relate the process for each 'city-mpg' and 'highway-mpg':\n",
    "\n",
    "# city-mpg\n",
    "pearson_coef, p_value = stats.pearsonr(df['city-mpg'], df['price'])\n",
    "print(\"The Pearson Correlation Coefficient for city-mpg vs price is\", pearson_coef, \" with a P-value of P = \", p_value)  \n",
    "# Since the p-value is < 0.001, the correlation between city-mpg and price is statistically significant, and the coefficient of about -0.687 shows that the relationship is negative and moderately strong.\n",
    "\n",
    "# highway-mpg\n",
    "pearson_coef, p_value = stats.pearsonr(df['highway-mpg'], df['price'])\n",
    "print( \"The Pearson Correlation Coefficient for highway-mpg vs price is\", pearson_coef, \" with a P-value of P = \", p_value ) \n",
    "# Since the p-value is < 0.001, the correlation between highway-mpg and \n",
    "# price is statistically significant, and the coefficient of about -0.705 shows that the relationship is negative and moderately strong.\n",
    "\n",
    "\n"
   ]
  },
  {
   "cell_type": "markdown",
   "metadata": {},
   "source": [
    "<h2 id=\"anova\"> ANOVA</h2>\n",
    "<h3>ANOVA: Analysis of Variance</h3>\n",
    "<p>The Analysis of Variance  (ANOVA) is a statistical method used to test whether there are significant differences between the means of two or more groups. ANOVA returns two parameters:</p>\n",
    "\n",
    "<p><b>F-test score</b>: ANOVA assumes the means of all groups are the same, calculates how much the actual means deviate from the assumption, and reports it as the F-test score. A larger score means there is a larger difference between the means.</p>\n",
    "\n",
    "<p><b>P-value</b>:  P-value tells how statistically significant our calculated score value is.</p>\n",
    "\n",
    "<p>If our price variable is strongly correlated with the variable we are analyzing, we expect ANOVA to return a sizeable F-test score and a small p-value.</p>\n",
    "\n",
    "\n",
    "<h3>Drive Wheels</h3>\n",
    "\n",
    "\n",
    "<p>Since ANOVA analyzes the difference between different groups of the same variable, the groupby function will come in handy. Because the ANOVA algorithm averages the data automatically, we do not need to take the average before hand.</p>\n",
    "\n",
    "<p>To see if different types of 'drive-wheels' impact  'price', we group the data.</p>\n",
    "\n"
   ]
  },
  {
   "cell_type": "code",
   "execution_count": 104,
   "metadata": {},
   "outputs": [
    {
     "data": {
      "application/vnd.microsoft.datawrangler.viewer.v0+json": {
       "columns": [
        {
         "name": "index",
         "rawType": "int64",
         "type": "integer"
        },
        {
         "name": "drive-wheels",
         "rawType": "object",
         "type": "string"
        },
        {
         "name": "price",
         "rawType": "float64",
         "type": "float"
        }
       ],
       "conversionMethod": "pd.DataFrame",
       "ref": "89267d0c-42be-426a-af64-34e429f3b404",
       "rows": [
        [
         "0",
         "rwd",
         "13495.0"
        ],
        [
         "1",
         "rwd",
         "16500.0"
        ],
        [
         "3",
         "fwd",
         "13950.0"
        ],
        [
         "4",
         "4wd",
         "17450.0"
        ],
        [
         "5",
         "fwd",
         "15250.0"
        ],
        [
         "136",
         "4wd",
         "7603.0"
        ]
       ],
       "shape": {
        "columns": 2,
        "rows": 6
       }
      },
      "text/html": [
       "<div>\n",
       "<style scoped>\n",
       "    .dataframe tbody tr th:only-of-type {\n",
       "        vertical-align: middle;\n",
       "    }\n",
       "\n",
       "    .dataframe tbody tr th {\n",
       "        vertical-align: top;\n",
       "    }\n",
       "\n",
       "    .dataframe thead th {\n",
       "        text-align: right;\n",
       "    }\n",
       "</style>\n",
       "<table border=\"1\" class=\"dataframe\">\n",
       "  <thead>\n",
       "    <tr style=\"text-align: right;\">\n",
       "      <th></th>\n",
       "      <th>drive-wheels</th>\n",
       "      <th>price</th>\n",
       "    </tr>\n",
       "  </thead>\n",
       "  <tbody>\n",
       "    <tr>\n",
       "      <th>0</th>\n",
       "      <td>rwd</td>\n",
       "      <td>13495.0</td>\n",
       "    </tr>\n",
       "    <tr>\n",
       "      <th>1</th>\n",
       "      <td>rwd</td>\n",
       "      <td>16500.0</td>\n",
       "    </tr>\n",
       "    <tr>\n",
       "      <th>3</th>\n",
       "      <td>fwd</td>\n",
       "      <td>13950.0</td>\n",
       "    </tr>\n",
       "    <tr>\n",
       "      <th>4</th>\n",
       "      <td>4wd</td>\n",
       "      <td>17450.0</td>\n",
       "    </tr>\n",
       "    <tr>\n",
       "      <th>5</th>\n",
       "      <td>fwd</td>\n",
       "      <td>15250.0</td>\n",
       "    </tr>\n",
       "    <tr>\n",
       "      <th>136</th>\n",
       "      <td>4wd</td>\n",
       "      <td>7603.0</td>\n",
       "    </tr>\n",
       "  </tbody>\n",
       "</table>\n",
       "</div>"
      ],
      "text/plain": [
       "    drive-wheels    price\n",
       "0            rwd  13495.0\n",
       "1            rwd  16500.0\n",
       "3            fwd  13950.0\n",
       "4            4wd  17450.0\n",
       "5            fwd  15250.0\n",
       "136          4wd   7603.0"
      ]
     },
     "execution_count": 104,
     "metadata": {},
     "output_type": "execute_result"
    }
   ],
   "source": [
    "#  Drive wheels\n",
    "grouped_test2 = df_gptest[['drive-wheels', 'price']].groupby(['drive-wheels'])\n",
    "grouped_test2.head(2)"
   ]
  },
  {
   "cell_type": "code",
   "execution_count": 105,
   "metadata": {},
   "outputs": [
    {
     "data": {
      "application/vnd.microsoft.datawrangler.viewer.v0+json": {
       "columns": [
        {
         "name": "index",
         "rawType": "int64",
         "type": "integer"
        },
        {
         "name": "drive-wheels",
         "rawType": "object",
         "type": "string"
        },
        {
         "name": "body-style",
         "rawType": "object",
         "type": "string"
        },
        {
         "name": "price",
         "rawType": "float64",
         "type": "float"
        }
       ],
       "conversionMethod": "pd.DataFrame",
       "ref": "1c048924-9cfd-4a21-af0f-e114e9879bd1",
       "rows": [
        [
         "0",
         "rwd",
         "convertible",
         "13495.0"
        ],
        [
         "1",
         "rwd",
         "convertible",
         "16500.0"
        ],
        [
         "2",
         "rwd",
         "hatchback",
         "16500.0"
        ],
        [
         "3",
         "fwd",
         "sedan",
         "13950.0"
        ],
        [
         "4",
         "4wd",
         "sedan",
         "17450.0"
        ],
        [
         "5",
         "fwd",
         "sedan",
         "15250.0"
        ],
        [
         "6",
         "fwd",
         "sedan",
         "17710.0"
        ],
        [
         "7",
         "fwd",
         "wagon",
         "18920.0"
        ],
        [
         "8",
         "fwd",
         "sedan",
         "23875.0"
        ],
        [
         "9",
         "rwd",
         "sedan",
         "16430.0"
        ],
        [
         "10",
         "rwd",
         "sedan",
         "16925.0"
        ],
        [
         "11",
         "rwd",
         "sedan",
         "20970.0"
        ],
        [
         "12",
         "rwd",
         "sedan",
         "21105.0"
        ],
        [
         "13",
         "rwd",
         "sedan",
         "24565.0"
        ],
        [
         "14",
         "rwd",
         "sedan",
         "30760.0"
        ],
        [
         "15",
         "rwd",
         "sedan",
         "41315.0"
        ],
        [
         "16",
         "rwd",
         "sedan",
         "36880.0"
        ],
        [
         "17",
         "fwd",
         "hatchback",
         "5151.0"
        ],
        [
         "18",
         "fwd",
         "hatchback",
         "6295.0"
        ],
        [
         "19",
         "fwd",
         "sedan",
         "6575.0"
        ],
        [
         "20",
         "fwd",
         "hatchback",
         "5572.0"
        ],
        [
         "21",
         "fwd",
         "hatchback",
         "6377.0"
        ],
        [
         "22",
         "fwd",
         "hatchback",
         "7957.0"
        ],
        [
         "23",
         "fwd",
         "hatchback",
         "6229.0"
        ],
        [
         "24",
         "fwd",
         "sedan",
         "6692.0"
        ],
        [
         "25",
         "fwd",
         "sedan",
         "7609.0"
        ],
        [
         "26",
         "fwd",
         "sedan",
         "8558.0"
        ],
        [
         "27",
         "fwd",
         "wagon",
         "8921.0"
        ],
        [
         "28",
         "fwd",
         "hatchback",
         "12964.0"
        ],
        [
         "29",
         "fwd",
         "hatchback",
         "6479.0"
        ],
        [
         "30",
         "fwd",
         "hatchback",
         "6855.0"
        ],
        [
         "31",
         "fwd",
         "hatchback",
         "5399.0"
        ],
        [
         "32",
         "fwd",
         "hatchback",
         "6529.0"
        ],
        [
         "33",
         "fwd",
         "hatchback",
         "7129.0"
        ],
        [
         "34",
         "fwd",
         "sedan",
         "7295.0"
        ],
        [
         "35",
         "fwd",
         "wagon",
         "7295.0"
        ],
        [
         "36",
         "fwd",
         "hatchback",
         "7895.0"
        ],
        [
         "37",
         "fwd",
         "hatchback",
         "9095.0"
        ],
        [
         "38",
         "fwd",
         "sedan",
         "8845.0"
        ],
        [
         "39",
         "fwd",
         "sedan",
         "10295.0"
        ],
        [
         "40",
         "fwd",
         "sedan",
         "12945.0"
        ],
        [
         "41",
         "fwd",
         "sedan",
         "10345.0"
        ],
        [
         "42",
         "rwd",
         "sedan",
         "6785.0"
        ],
        [
         "43",
         "rwd",
         "hatchback",
         "11048.0"
        ],
        [
         "44",
         "rwd",
         "sedan",
         "32250.0"
        ],
        [
         "45",
         "rwd",
         "sedan",
         "35550.0"
        ],
        [
         "46",
         "rwd",
         "sedan",
         "36000.0"
        ],
        [
         "47",
         "fwd",
         "hatchback",
         "5195.0"
        ],
        [
         "48",
         "fwd",
         "hatchback",
         "6095.0"
        ],
        [
         "49",
         "fwd",
         "hatchback",
         "6795.0"
        ]
       ],
       "shape": {
        "columns": 3,
        "rows": 201
       }
      },
      "text/html": [
       "<div>\n",
       "<style scoped>\n",
       "    .dataframe tbody tr th:only-of-type {\n",
       "        vertical-align: middle;\n",
       "    }\n",
       "\n",
       "    .dataframe tbody tr th {\n",
       "        vertical-align: top;\n",
       "    }\n",
       "\n",
       "    .dataframe thead th {\n",
       "        text-align: right;\n",
       "    }\n",
       "</style>\n",
       "<table border=\"1\" class=\"dataframe\">\n",
       "  <thead>\n",
       "    <tr style=\"text-align: right;\">\n",
       "      <th></th>\n",
       "      <th>drive-wheels</th>\n",
       "      <th>body-style</th>\n",
       "      <th>price</th>\n",
       "    </tr>\n",
       "  </thead>\n",
       "  <tbody>\n",
       "    <tr>\n",
       "      <th>0</th>\n",
       "      <td>rwd</td>\n",
       "      <td>convertible</td>\n",
       "      <td>13495.0</td>\n",
       "    </tr>\n",
       "    <tr>\n",
       "      <th>1</th>\n",
       "      <td>rwd</td>\n",
       "      <td>convertible</td>\n",
       "      <td>16500.0</td>\n",
       "    </tr>\n",
       "    <tr>\n",
       "      <th>2</th>\n",
       "      <td>rwd</td>\n",
       "      <td>hatchback</td>\n",
       "      <td>16500.0</td>\n",
       "    </tr>\n",
       "    <tr>\n",
       "      <th>3</th>\n",
       "      <td>fwd</td>\n",
       "      <td>sedan</td>\n",
       "      <td>13950.0</td>\n",
       "    </tr>\n",
       "    <tr>\n",
       "      <th>4</th>\n",
       "      <td>4wd</td>\n",
       "      <td>sedan</td>\n",
       "      <td>17450.0</td>\n",
       "    </tr>\n",
       "    <tr>\n",
       "      <th>...</th>\n",
       "      <td>...</td>\n",
       "      <td>...</td>\n",
       "      <td>...</td>\n",
       "    </tr>\n",
       "    <tr>\n",
       "      <th>196</th>\n",
       "      <td>rwd</td>\n",
       "      <td>sedan</td>\n",
       "      <td>16845.0</td>\n",
       "    </tr>\n",
       "    <tr>\n",
       "      <th>197</th>\n",
       "      <td>rwd</td>\n",
       "      <td>sedan</td>\n",
       "      <td>19045.0</td>\n",
       "    </tr>\n",
       "    <tr>\n",
       "      <th>198</th>\n",
       "      <td>rwd</td>\n",
       "      <td>sedan</td>\n",
       "      <td>21485.0</td>\n",
       "    </tr>\n",
       "    <tr>\n",
       "      <th>199</th>\n",
       "      <td>rwd</td>\n",
       "      <td>sedan</td>\n",
       "      <td>22470.0</td>\n",
       "    </tr>\n",
       "    <tr>\n",
       "      <th>200</th>\n",
       "      <td>rwd</td>\n",
       "      <td>sedan</td>\n",
       "      <td>22625.0</td>\n",
       "    </tr>\n",
       "  </tbody>\n",
       "</table>\n",
       "<p>201 rows × 3 columns</p>\n",
       "</div>"
      ],
      "text/plain": [
       "    drive-wheels   body-style    price\n",
       "0            rwd  convertible  13495.0\n",
       "1            rwd  convertible  16500.0\n",
       "2            rwd    hatchback  16500.0\n",
       "3            fwd        sedan  13950.0\n",
       "4            4wd        sedan  17450.0\n",
       "..           ...          ...      ...\n",
       "196          rwd        sedan  16845.0\n",
       "197          rwd        sedan  19045.0\n",
       "198          rwd        sedan  21485.0\n",
       "199          rwd        sedan  22470.0\n",
       "200          rwd        sedan  22625.0\n",
       "\n",
       "[201 rows x 3 columns]"
      ]
     },
     "execution_count": 105,
     "metadata": {},
     "output_type": "execute_result"
    }
   ],
   "source": [
    "df_gptest"
   ]
  },
  {
   "cell_type": "code",
   "execution_count": 108,
   "metadata": {},
   "outputs": [
    {
     "name": "stderr",
     "output_type": "stream",
     "text": [
      "C:\\Users\\Admin\\AppData\\Local\\Temp\\ipykernel_6516\\2576151701.py:3: FutureWarning: When grouping with a length-1 list-like, you will need to pass a length-1 tuple to get_group in a future version of pandas. Pass `(name,)` instead of `name` to silence this warning.\n",
      "  grouped_test2.get_group('4wd')['price']\n"
     ]
    },
    {
     "data": {
      "text/plain": [
       "4      17450.0\n",
       "136     7603.0\n",
       "140     9233.0\n",
       "141    11259.0\n",
       "144     8013.0\n",
       "145    11694.0\n",
       "150     7898.0\n",
       "151     8778.0\n",
       "Name: price, dtype: float64"
      ]
     },
     "execution_count": 108,
     "metadata": {},
     "output_type": "execute_result"
    }
   ],
   "source": [
    "# we can obtain the value of the method group using the method \"get_group\"\n",
    "\n",
    "grouped_test2.get_group('4wd')['price']"
   ]
  },
  {
   "cell_type": "code",
   "execution_count": 110,
   "metadata": {},
   "outputs": [
    {
     "name": "stdout",
     "output_type": "stream",
     "text": [
      "ANOVA results: F = 67.95406500780399 , p = 3.3945443577149576e-23\n"
     ]
    },
    {
     "name": "stderr",
     "output_type": "stream",
     "text": [
      "C:\\Users\\Admin\\AppData\\Local\\Temp\\ipykernel_6516\\3677935927.py:3: FutureWarning: When grouping with a length-1 list-like, you will need to pass a length-1 tuple to get_group in a future version of pandas. Pass `(name,)` instead of `name` to silence this warning.\n",
      "  f_val, p_val = stats.f_oneway(grouped_test2.get_group('fwd')['price'], grouped_test2.get_group('rwd')['price'], grouped_test2.get_group('4wd')['price'])\n"
     ]
    }
   ],
   "source": [
    "# we can use the function \"f_oneway\" in the module to get the F-score and P-value\n",
    "# ANOVA\n",
    "f_val, p_val = stats.f_oneway(grouped_test2.get_group('fwd')['price'], grouped_test2.get_group('rwd')['price'], grouped_test2.get_group('4wd')['price'])\n",
    "print(\"ANOVA results: F =\", f_val, \", p =\", p_val)"
   ]
  },
  {
   "cell_type": "markdown",
   "metadata": {},
   "source": [
    "This is a great result with a large F-test score showing a strong correlation and a P-value of almost 0 implying almost certain statistical significance. But does this mean all three tested groups are all this highly correlated? \n",
    "\n",
    "Let's examine them separately."
   ]
  },
  {
   "cell_type": "code",
   "execution_count": null,
   "metadata": {},
   "outputs": [
    {
     "name": "stdout",
     "output_type": "stream",
     "text": [
      "ANOVA results  for fwd and rwd: F = 130.5533160959111 , p = 2.2355306355677366e-23\n",
      "ANOVA results  for 4wd and rwd: F = 8.580681368924756 , p = 0.004411492211225367\n",
      "ANOVA results  for 4wd and fwd: F = 0.665465750252303 , p = 0.4162011669784502\n"
     ]
    },
    {
     "name": "stderr",
     "output_type": "stream",
     "text": [
      "C:\\Users\\Admin\\AppData\\Local\\Temp\\ipykernel_6516\\3143900931.py:2: FutureWarning: When grouping with a length-1 list-like, you will need to pass a length-1 tuple to get_group in a future version of pandas. Pass `(name,)` instead of `name` to silence this warning.\n",
      "  f_val, p_val = stats.f_oneway(grouped_test2.get_group('fwd')['price'], grouped_test2.get_group('rwd')['price'])\n",
      "C:\\Users\\Admin\\AppData\\Local\\Temp\\ipykernel_6516\\3143900931.py:6: FutureWarning: When grouping with a length-1 list-like, you will need to pass a length-1 tuple to get_group in a future version of pandas. Pass `(name,)` instead of `name` to silence this warning.\n",
      "  f_val, p_val = stats.f_oneway(grouped_test2.get_group('4wd')['price'], grouped_test2.get_group('rwd')['price'])\n",
      "C:\\Users\\Admin\\AppData\\Local\\Temp\\ipykernel_6516\\3143900931.py:10: FutureWarning: When grouping with a length-1 list-like, you will need to pass a length-1 tuple to get_group in a future version of pandas. Pass `(name,)` instead of `name` to silence this warning.\n",
      "  f_val, p_val = stats.f_oneway(grouped_test2.get_group('4wd')['price'], grouped_test2.get_group('fwd')['price'])\n"
     ]
    }
   ],
   "source": [
    "# ANOVA for fwd and rwd \n",
    "f_val, p_val = stats.f_oneway(grouped_test2.get_group('fwd')['price'], grouped_test2.get_group('rwd')['price'])\n",
    "print(\"ANOVA results  for fwd and rwd: F =\", f_val, \", p =\", p_val)\n",
    "\n",
    "# ANOVA for 4wd and rwd \n",
    "f_val, p_val = stats.f_oneway(grouped_test2.get_group('4wd')['price'], grouped_test2.get_group('rwd')['price'])\n",
    "print(\"ANOVA results  for 4wd and rwd: F =\", f_val, \", p =\", p_val)\n",
    "\n",
    "# ANOVA for 4wd and fwd \n",
    "f_val, p_val = stats.f_oneway(grouped_test2.get_group('4wd')['price'], grouped_test2.get_group('fwd')['price'])\n",
    "print(\"ANOVA results  for 4wd and fwd: F =\", f_val, \", p =\", p_val)\n",
    "\n",
    "\n",
    "# We notice that ANOVA for the categories 4wd and fwd yields a high p-value > 0.1, so the calculated F-test score is not very statistically significant.\n",
    "# This suggests we can't reject the assumption that the means of these two groups are the same, or, in other words, we can't conclude the difference in correlation to be significant."
   ]
  }
 ],
 "metadata": {
  "kernelspec": {
   "display_name": "Python 3",
   "language": "python",
   "name": "python3"
  },
  "language_info": {
   "codemirror_mode": {
    "name": "ipython",
    "version": 3
   },
   "file_extension": ".py",
   "mimetype": "text/x-python",
   "name": "python",
   "nbconvert_exporter": "python",
   "pygments_lexer": "ipython3",
   "version": "3.13.2"
  }
 },
 "nbformat": 4,
 "nbformat_minor": 2
}
