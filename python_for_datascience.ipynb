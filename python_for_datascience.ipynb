{
 "cells": [
  {
   "cell_type": "code",
   "execution_count": 8,
   "metadata": {},
   "outputs": [
    {
     "name": "stdout",
     "output_type": "stream",
     "text": [
      "Requirement already satisfied: numpy in c:\\users\\admin\\appdata\\local\\programs\\python\\python313\\lib\\site-packages (2.2.2)\n",
      "Requirement already satisfied: pandas in c:\\users\\admin\\appdata\\local\\programs\\python\\python313\\lib\\site-packages (2.2.3)\n",
      "Requirement already satisfied: matplotlib in c:\\users\\admin\\appdata\\local\\programs\\python\\python313\\lib\\site-packages (3.10.0)\n",
      "Requirement already satisfied: seaborn in c:\\users\\admin\\appdata\\local\\programs\\python\\python313\\lib\\site-packages (0.13.2)\n",
      "Requirement already satisfied: python-dateutil>=2.8.2 in c:\\users\\admin\\appdata\\roaming\\python\\python313\\site-packages (from pandas) (2.9.0.post0)\n",
      "Requirement already satisfied: pytz>=2020.1 in c:\\users\\admin\\appdata\\local\\programs\\python\\python313\\lib\\site-packages (from pandas) (2025.1)\n",
      "Requirement already satisfied: tzdata>=2022.7 in c:\\users\\admin\\appdata\\local\\programs\\python\\python313\\lib\\site-packages (from pandas) (2025.1)\n",
      "Requirement already satisfied: contourpy>=1.0.1 in c:\\users\\admin\\appdata\\local\\programs\\python\\python313\\lib\\site-packages (from matplotlib) (1.3.1)\n",
      "Requirement already satisfied: cycler>=0.10 in c:\\users\\admin\\appdata\\local\\programs\\python\\python313\\lib\\site-packages (from matplotlib) (0.12.1)\n",
      "Requirement already satisfied: fonttools>=4.22.0 in c:\\users\\admin\\appdata\\local\\programs\\python\\python313\\lib\\site-packages (from matplotlib) (4.55.8)\n",
      "Requirement already satisfied: kiwisolver>=1.3.1 in c:\\users\\admin\\appdata\\local\\programs\\python\\python313\\lib\\site-packages (from matplotlib) (1.4.8)\n",
      "Requirement already satisfied: packaging>=20.0 in c:\\users\\admin\\appdata\\roaming\\python\\python313\\site-packages (from matplotlib) (24.2)\n",
      "Requirement already satisfied: pillow>=8 in c:\\users\\admin\\appdata\\local\\programs\\python\\python313\\lib\\site-packages (from matplotlib) (11.1.0)\n",
      "Requirement already satisfied: pyparsing>=2.3.1 in c:\\users\\admin\\appdata\\local\\programs\\python\\python313\\lib\\site-packages (from matplotlib) (3.2.1)\n",
      "Requirement already satisfied: six>=1.5 in c:\\users\\admin\\appdata\\roaming\\python\\python313\\site-packages (from python-dateutil>=2.8.2->pandas) (1.17.0)\n",
      "Note: you may need to restart the kernel to use updated packages.\n"
     ]
    },
    {
     "name": "stderr",
     "output_type": "stream",
     "text": [
      "\n",
      "[notice] A new release of pip is available: 24.3.1 -> 25.0\n",
      "[notice] To update, run: python.exe -m pip install --upgrade pip\n"
     ]
    }
   ],
   "source": [
    "%pip install numpy pandas matplotlib seaborn"
   ]
  },
  {
   "cell_type": "code",
   "execution_count": 25,
   "metadata": {},
   "outputs": [
    {
     "name": "stdout",
     "output_type": "stream",
     "text": [
      "[1 2 3 4 5]\n",
      "[[1 2 3]\n",
      " [4 5 6]]\n",
      "[[0. 0. 0. 0.]\n",
      " [0. 0. 0. 0.]\n",
      " [0. 0. 0. 0.]]\n",
      "[[1. 1. 1.]\n",
      " [1. 1. 1.]]\n",
      "[[6 6 6]\n",
      " [6 6 6]\n",
      " [6 6 6]]\n",
      "[[0.77715905 0.52699857]\n",
      " [0.53916938 0.89721593]]\n",
      "[[6 7]\n",
      " [7 3]]\n",
      "[ 0  5 10 15 20 25]\n",
      "[0.    0.625 1.25  1.875 2.5   3.125 3.75  4.375 5.   ]\n",
      "[[1 2]\n",
      " [3 4]\n",
      " [5 6]]\n",
      "[1 2 3 4 5 6]\n",
      "1\n",
      "[2 3 4]\n",
      "[2 4]\n",
      "[1 2 3 4 5 6]\n",
      "[array([1, 2]), array([3, 4]), array([5, 6])]\n",
      "[[1. 0. 0.]\n",
      " [0. 1. 0.]\n",
      " [0. 0. 1.]]\n",
      "[[1 0 0 0]\n",
      " [0 2 0 0]\n",
      " [0 0 3 0]\n",
      " [0 0 0 4]]\n"
     ]
    }
   ],
   "source": [
    "#CREATING ARRAYS IN PANDAS\n",
    "# one dimensional array\n",
    "import numpy as np\n",
    "arr = np.array([1, 2, 3, 4, 5])\n",
    "print(arr)\n",
    "# two dimensional array\n",
    "arr = np.array([[1, 2, 3], [4, 5, 6]])  \n",
    "print(arr)\n",
    "\n",
    "\n",
    "#   CREATIND ARRAYS WITH SPECIFC VALUES\n",
    "import numpy as np\n",
    "# 3 * 4 array with all zeros\n",
    "arr = np.zeros((3, 4))\n",
    "print(arr)\n",
    "# 2 * 3 array with all ones\n",
    "arr = np.ones((2, 3))\n",
    "print(arr)\n",
    "\n",
    "#  FULL ARRAY: the np.full() function is used to create an array with a specified shape and fill value\n",
    "arr = np.full((3, 3), 6)\n",
    "print(arr)\n",
    "\n",
    "#  RANDOM ARRAY: the np.random.random() function is used to create an array with random values\n",
    "arr = np.random.random((2, 2))\n",
    "print(arr)\n",
    "\n",
    "# RANDOM INTERGER ARRAY\n",
    "arr = np.random.randint(0, 10, (2, 2))\n",
    "print(arr)\n",
    "\n",
    "# ARRAYS WITH A RANGE OF VALUES : the np.arange() function is used to create an array with a range of values. the vales in the below code will be from 0 to 30 with a step of 5.\n",
    "arr_range = np.arange(0, 30, 5)\n",
    "print(arr_range)\n",
    "\n",
    "# ARRAY WITH A RANGE OF FLOAT VALUES: the np.linspace() function is used to create an array with a range of float values. the values in the below code will be from 0 to 5 with 9 elements.\n",
    "arr = np.linspace(0, 5, 9)\n",
    "print(arr)\n",
    "\n",
    "# RESHAPING AN ARRAY: the np.reshape() function is used to reshape an array. the below code will reshape the array to 3 * 3.\n",
    "arr = np.array([[1, 2, 3], [4, 5, 6]])\n",
    "newarr = arr.reshape(3, 2)\n",
    "print(newarr)\n",
    "\n",
    "# FLATTENING AN ARRAY: the np.flatten() function is used to flatten an array. the below code will flatten the array to 1 * 6.\n",
    "arr = np.array([[1, 2, 3], [4, 5, 6]])\n",
    "newarr = arr.flatten()\n",
    "print(newarr)\n",
    "\n",
    "# ARRAY INDEXING: the below code will print the first element of the array.\n",
    "arr = np.array([1, 2, 3, 4, 5])\n",
    "print(arr[0])\n",
    "\n",
    "# ARRAY SLICING: the below code will print the elements from index 1 to 4.\n",
    "arr = np.array([1, 2, 3, 4, 5])\n",
    "print(arr[1:4])\n",
    "#   ARRAY SLICING WITH STEP: the below code will print the elements from index 1\n",
    "#   to 4 with a step of 2.\n",
    "arr = np.array([1, 2, 3, 4, 5])\n",
    "print(arr[1:4:2])\n",
    "\n",
    "\n",
    "# ARRAY CONCATENATION: the np.concatenate() function is used to concatenate two arrays. the below code will concatenate two arrays.\n",
    "arr1 = np.array([1, 2, 3])\n",
    "arr2 = np.array([4, 5, 6])\n",
    "arr = np.concatenate((arr1, arr2))\n",
    "print(arr)\n",
    "\n",
    "# ARRAY SPLITTING: the np.array_split() function is used to split an array. the below code will split the array into three arrays.\n",
    "arr = np.array([1, 2, 3, 4, 5, 6])\n",
    "newarr = np.array_split(arr, 3)\n",
    "print(newarr)\n",
    "\n",
    "# identity matrix and diagonal matrix\n",
    "identity_matrix = np.eye(3)\n",
    "print(identity_matrix)\n",
    "#   diagonal matrix\n",
    "diagonal_matrix = np.diag([1, 2, 3, 4])\n",
    "print(diagonal_matrix)"
   ]
  },
  {
   "cell_type": "code",
   "execution_count": 54,
   "metadata": {},
   "outputs": [
    {
     "name": "stdout",
     "output_type": "stream",
     "text": [
      "Multiplication table of 6\n",
      "6 * 1 = 6\n",
      "6 * 2 = 12\n",
      "6 * 3 = 18\n",
      "6 * 4 = 24\n",
      "6 * 5 = 30\n",
      "6 * 6 = 36\n",
      "6 * 7 = 42\n",
      "6 * 8 = 48\n",
      "6 * 9 = 54\n",
      "6 * 10 = 60\n",
      "Multiplication table of 7\n",
      "7 * 1 = 7\n",
      "7 * 2 = 14\n",
      "7 * 3 = 21\n",
      "7 * 4 = 28\n",
      "7 * 5 = 35\n",
      "7 * 6 = 42\n",
      "7 * 7 = 49\n",
      "7 * 8 = 56\n",
      "7 * 9 = 63\n",
      "7 * 10 = 70\n"
     ]
    }
   ],
   "source": [
    "print (\"Multiplication table of 6\")\n",
    "for i in range(1,11):\n",
    "    print (\"6 *\", i, \"=\", 6 * i)\n",
    "    \n",
    "print (\"Multiplication table of 7\")\n",
    "for i in range(1,11):\n",
    "    print (\"7 *\", i, \"=\", 7 * i)\n",
    "\n"
   ]
  },
  {
   "cell_type": "code",
   "execution_count": 11,
   "metadata": {},
   "outputs": [
    {
     "data": {
      "image/png": "[encoded data removed]",
      "text/plain": [
       "<Figure size 640x480 with 1 Axes>"
      ]
     },
     "metadata": {},
     "output_type": "display_data"
    },
    {
     "name": "stdout",
     "output_type": "stream",
     "text": [
      "Radius of object: 1\n",
      "Radius of object after calling method add_radius(2): 3\n",
      "Radius of object after calling method add_radius(5): 8\n"
     ]
    },
    {
     "data": {
      "image/png": "[encoded data removed]",
      "text/plain": [
       "<Figure size 640x480 with 1 Axes>"
      ]
     },
     "metadata": {},
     "output_type": "display_data"
    }
   ],
   "source": [
    "# an example of drowing a circle using A class\n",
    "import matplotlib.pyplot as plt\n",
    "class Circle:\n",
    "\tdef __init__(self, radius, color):\n",
    "\t\tself.radius = radius\n",
    "\t\tself.color = color\n",
    "\n",
    "\tdef add_radius(self, r):\n",
    "\t\tself.radius += r\n",
    "\t\treturn self.radius\n",
    "\n",
    "\tdef drawCircle(self):\n",
    "\t\t\n",
    "\t\tcircle = plt.Circle((0, 0), self.radius, color=self.color)\n",
    "\t\tfig, ax = plt.subplots()\n",
    "\t\tax.add_artist(circle)\n",
    "\t\tax.set_xlim(-self.radius-1, self.radius+1)\n",
    "\t\tax.set_ylim(-self.radius-1, self.radius+1)\n",
    "\t\tplt.gca().set_aspect('equal', adjustable='box')\n",
    "\t\tplt.show()\n",
    "\n",
    "RedCircle = Circle(10, 'red')\n",
    "# methods that can be used on the object RedCircle.\n",
    "dir(RedCircle)\n",
    "RedCircle.radius # print the radius\n",
    "RedCircle.color # print the color\n",
    "# set the object attribute radius\n",
    "RedCircle.radius = 1\n",
    "RedCircle.radius\n",
    "# calling the method DrawCircle\n",
    "RedCircle.drawCircle()\n",
    "\n",
    "\n",
    "# use method to change the object attribute radius\n",
    "print('Radius of object:' , RedCircle.radius)\n",
    "RedCircle.add_radius(2)\n",
    "print ('Radius of object after calling method add_radius(2):' , RedCircle.radius)\n",
    "RedCircle.add_radius(5)\n",
    "print ('Radius of object after calling method add_radius(5):' , RedCircle.radius)\n",
    "RedCircle.drawCircle()"
   ]
  },
  {
   "cell_type": "code",
   "execution_count": 17,
   "metadata": {},
   "outputs": [
    {
     "data": {
      "image/png": "[encoded data removed]",
      "text/plain": [
       "<Figure size 640x480 with 1 Axes>"
      ]
     },
     "metadata": {},
     "output_type": "display_data"
    },
    {
     "data": {
      "image/png": "[encoded data removed]",
      "text/plain": [
       "<Figure size 640x480 with 1 Axes>"
      ]
     },
     "metadata": {},
     "output_type": "display_data"
    }
   ],
   "source": [
    "# CLASS RECTANGLE\n",
    "\n",
    "class Rectangle(object):\n",
    "    # Constructor\n",
    "    def __init__(self, width=2, height=3, color= 'r'):\n",
    "        self.height = height\n",
    "        self.width = width\n",
    "        self.color = color\n",
    "    # method\n",
    "    def drawRectangle(self):\n",
    "        plt.gca().add_patch(plt.Rectangle((0, 0), width=self.width, height=self.height, fc=self.color))\n",
    "        plt.axis('scaled')\n",
    "        plt.show()\n",
    "# create a new object of Rectangle class\n",
    "SkinnyBlackRectangle = Rectangle(2, 3, 'black')   \\\n",
    "    # the attributes of the new class     \n",
    "SkinnyBlackRectangle.height \n",
    "SkinnyBlackRectangle.width\n",
    "SkinnyBlackRectangle.color\n",
    "\n",
    "# drawing the rectangle\n",
    "SkinnyBlackRectangle.drawRectangle()\n",
    "\n",
    "# create a new object rectangle\n",
    "FatYellowRectangle = Rectangle(242, 112, 'yellow')\n",
    "FatYellowRectangle.height\n",
    "FatYellowRectangle.width\n",
    "FatYellowRectangle.color\n",
    "\n",
    "FatYellowRectangle.drawRectangle()"
   ]
  }
 ],
 "metadata": {
  "kernelspec": {
   "display_name": "Python 3",
   "language": "python",
   "name": "python3"
  },
  "language_info": {
   "codemirror_mode": {
    "name": "ipython",
    "version": 3
   },
   "file_extension": ".py",
   "mimetype": "text/x-python",
   "name": "python",
   "nbconvert_exporter": "python",
   "pygments_lexer": "ipython3",
   "version": "3.13.1"
  }
 },
 "nbformat": 4,
 "nbformat_minor": 2
}
