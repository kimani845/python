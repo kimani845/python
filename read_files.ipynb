{
 "cells": [
  {
   "cell_type": "code",
   "execution_count": null,
   "metadata": {},
   "outputs": [],
   "source": [
    "%pip install lxml\n",
    "%pip install html5lib\n",
    "%pip install beautifulsoup4\n",
    "%pip install kagglehub\n",
    "%pip install requests"
   ]
  },
  {
   "cell_type": "code",
   "execution_count": 47,
   "metadata": {},
   "outputs": [],
   "source": [
    "\n",
    "import requests\n",
    "from bs4 import BeautifulSoup\n",
    "import pandas as pd\n"
   ]
  },
  {
   "cell_type": "code",
   "execution_count": 1,
   "metadata": {},
   "outputs": [
    {
     "name": "stderr",
     "output_type": "stream",
     "text": [
      "c:\\Users\\admin\\AppData\\Local\\Programs\\Python\\Python313\\Lib\\site-packages\\tqdm\\auto.py:21: TqdmWarning: IProgress not found. Please update jupyter and ipywidgets. See https://ipywidgets.readthedocs.io/en/stable/user_install.html\n",
      "  from .autonotebook import tqdm as notebook_tqdm\n"
     ]
    },
    {
     "name": "stdout",
     "output_type": "stream",
     "text": [
      "Path to dataset files: C:\\Users\\admin\\Desktop\\CODE\\python\n"
     ]
    }
   ],
   "source": [
    "import kagglehub\n",
    "import shutil\n",
    "import os\n",
    "\n",
    "\n",
    "download_path = kagglehub.dataset_download(\"avis02/crime-data-from-2020-to-present\")\n",
    "desired_path = r\"C:\\Users\\admin\\Desktop\\CODE\\python\" # specify your desired path here\n",
    "# ensure that the destination exists\n",
    "os.makedirs(desired_path, exist_ok=True)\n",
    "# download the dataset\n",
    "# Download latest version\n",
    "path = kagglehub.dataset_download(\"avis02/crime-data-from-2020-to-present\")\n",
    "# Move the dataset to the desired path\n",
    "for file in os.listdir(download_path):\n",
    "\tshutil.copytree(download_path, desired_path, dirs_exist_ok=True)\n",
    "\t\n",
    "\n",
    "print(\"Path to dataset files:\", desired_path)"
   ]
  },
  {
   "cell_type": "code",
   "execution_count": null,
   "metadata": {},
   "outputs": [],
   "source": [
    "    "
   ]
  }
 ],
 "metadata": {
  "kernelspec": {
   "display_name": "Python 3",
   "language": "python",
   "name": "python3"
  },
  "language_info": {
   "codemirror_mode": {
    "name": "ipython",
    "version": 3
   },
   "file_extension": ".py",
   "mimetype": "text/x-python",
   "name": "python",
   "nbconvert_exporter": "python",
   "pygments_lexer": "ipython3",
   "version": "3.13.1"
  }
 },
 "nbformat": 4,
 "nbformat_minor": 2
}
